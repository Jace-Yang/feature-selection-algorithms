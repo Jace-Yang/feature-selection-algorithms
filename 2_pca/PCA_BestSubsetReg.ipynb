{
 "cells": [
  {
   "cell_type": "markdown",
   "metadata": {},
   "source": [
    "# PCA for best subset regression"
   ]
  },
  {
   "cell_type": "markdown",
   "metadata": {},
   "source": [
    "### Input"
   ]
  },
  {
   "cell_type": "code",
   "execution_count": 22,
   "metadata": {},
   "outputs": [],
   "source": [
    "import sys\n",
    "import numpy as np\n",
    "import os\n",
    "from scipy.stats import norm\n",
    "import matplotlib.pyplot as plt\n",
    "\n",
    "# Experiment Data\n",
    "X = np.loadtxt(\"../model1_best_subset_regression/data/x.txt\", delimiter=\",\")\n",
    "n,p = X.shape\n",
    "Y = np.loadtxt(\"../model1_best_subset_regression/data/y.txt\", delimiter=\",\")\n",
    "names = np.loadtxt(\"../model1_best_subset_regression/data/names.txt\", delimiter=\",\", dtype=str)[0:8]"
   ]
  },
  {
   "cell_type": "markdown",
   "metadata": {},
   "source": [
    "### EDA"
   ]
  },
  {
   "cell_type": "code",
   "execution_count": 23,
   "metadata": {},
   "outputs": [
    {
     "data": {
      "image/png": "[encoded data removed]",
      "text/plain": [
       "<Figure size 864x360 with 1 Axes>"
      ]
     },
     "metadata": {},
     "output_type": "display_data"
    }
   ],
   "source": [
    "fig, axes = plt.subplots(figsize=(12, 5))\n",
    "axes.violinplot(X, showmeans=False, showmedians=True)\n",
    "axes.set_title('Violin plot of X')\n",
    "axes.yaxis.grid(True)\n",
    "axes.set_xticks([y + 1 for y in range(p)], )\n",
    "axes.set_xlabel('xlabel')\n",
    "axes.set_ylabel('ylabel')\n",
    "plt.setp(axes, xticks=[y + 1 for y in range(p)],\n",
    "         xticklabels=names,)\n",
    "plt.show()"
   ]
  },
  {
   "cell_type": "markdown",
   "metadata": {
    "toc-hr-collapsed": false
   },
   "source": [
    "### Principle component analysis"
   ]
  },
  {
   "cell_type": "markdown",
   "metadata": {},
   "source": [
    "#### Step 1. Standardization"
   ]
  },
  {
   "cell_type": "code",
   "execution_count": 24,
   "metadata": {},
   "outputs": [],
   "source": [
    "from sklearn.preprocessing import StandardScaler\n",
    "X_scaled = StandardScaler().fit_transform(X)\n",
    "Y_scaled = StandardScaler().fit_transform(Y.reshape(-1, 1))"
   ]
  },
  {
   "cell_type": "markdown",
   "metadata": {},
   "source": [
    "#### Step 2. Calculate the covariance matrix of the standardized matrix, that is, the correlation coefficient matrix of the original matrix\n",
    "- Use `np.cov` or `np.corrcoef`\n",
    "    - The correlation coefficient matrix of the original matrix is the covariance matrix of the normalized matrix\n",
    "- Using covariance matrix formula for `X.scaled`"
   ]
  },
  {
   "cell_type": "code",
   "execution_count": 25,
   "metadata": {},
   "outputs": [
    {
     "name": "stdout",
     "output_type": "stream",
     "text": [
      "Covariance matrix of X_scaled: \n",
      "[[ 1.          0.28052139  0.22499988  0.0273497   0.538845    0.67531048\n",
      "   0.43241706  0.43365225]\n",
      " [ 0.28052139  1.          0.34796911  0.44226439  0.15538491  0.16453715\n",
      "   0.0568821   0.10735379]\n",
      " [ 0.22499988  0.34796911  1.          0.3501859   0.11765804  0.12766775\n",
      "   0.2688916   0.27611245]\n",
      " [ 0.0273497   0.44226439  0.3501859   1.         -0.08584324 -0.00699943\n",
      "   0.07782045  0.07846002]\n",
      " [ 0.538845    0.15538491  0.11765804 -0.08584324  1.          0.67311118\n",
      "   0.32041222  0.45764762]\n",
      " [ 0.67531048  0.16453715  0.12766775 -0.00699943  0.67311118  1.\n",
      "   0.51483006  0.63152825]\n",
      " [ 0.43241706  0.0568821   0.2688916   0.07782045  0.32041222  0.51483006\n",
      "   1.          0.75190451]\n",
      " [ 0.43365225  0.10735379  0.27611245  0.07846002  0.45764762  0.63152825\n",
      "   0.75190451  1.        ]]\n"
     ]
    }
   ],
   "source": [
    "n,p = X.shape\n",
    "X_cor = np.corrcoef(X_scaled.T)\n",
    "print('Covariance matrix of X_scaled: \\n%s' %X_cor)"
   ]
  },
  {
   "cell_type": "markdown",
   "metadata": {},
   "source": [
    "#### Step 3. Eigen value & vector of the covariance matrix"
   ]
  },
  {
   "cell_type": "code",
   "execution_count": 26,
   "metadata": {},
   "outputs": [
    {
     "name": "stdout",
     "output_type": "stream",
     "text": [
      "Eigenvectors \n",
      "[[ 0.33648701  0.17349703 -0.62501056  0.40591988  0.10063444  0.33161511\n",
      "   0.05369897 -0.42224005]\n",
      " [-0.05978282 -0.01046653  0.53236051  0.43787933 -0.13182374  0.4224938\n",
      "  -0.53877313 -0.18712415]\n",
      " [-0.08228769 -0.11361112 -0.05859593 -0.14212325  0.79275344 -0.24245431\n",
      "  -0.46863197 -0.22322795]\n",
      " [ 0.03729392  0.08275523 -0.36257286 -0.43575621 -0.51054935 -0.08336125\n",
      "  -0.62886897 -0.08562866]\n",
      " [ 0.04314492  0.46041071  0.28266015 -0.58336083  0.12037404  0.39519323\n",
      "   0.20742156 -0.39020837]\n",
      " [-0.51526685 -0.6321386  -0.12396509 -0.12048346 -0.13602816  0.18687032\n",
      "   0.19008256 -0.46417852]\n",
      " [-0.44086034  0.49109579  0.04920223  0.27860398 -0.15808421 -0.53818216\n",
      "   0.07198888 -0.40572527]\n",
      " [ 0.64290058 -0.31189904  0.30557578 -0.03101518 -0.15934987 -0.4062745\n",
      "   0.08608338 -0.44406941]]\n",
      "\n",
      "Eigenvalues \n",
      "[0.19514862 0.26262383 0.44221301 0.48329089 0.6320111  0.97566104\n",
      " 1.64830631 3.3607452 ]\n"
     ]
    }
   ],
   "source": [
    "eig_vals, eig_vecs = np.linalg.eigh(X_cor)\n",
    "print('Eigenvectors \\n%s' %eig_vecs)\n",
    "print('\\nEigenvalues \\n%s' %eig_vals)"
   ]
  },
  {
   "cell_type": "markdown",
   "metadata": {},
   "source": [
    "#### Test "
   ]
  },
  {
   "cell_type": "code",
   "execution_count": 27,
   "metadata": {},
   "outputs": [],
   "source": [
    "# Schmidt orthogonalize\n",
    "def schmidt_orthogonality(matrix_org, debug=False):\n",
    "    \"\"\"\n",
    "    b1 = a1, b2 = a2 - kb1, b3 = a3 - k1b1 - k2b2\n",
    "    :param matrix_org: m x n matrix, m >= n 且满秩\n",
    "    :return:\n",
    "    \"\"\"\n",
    "    m, n = matrix_org.shape\n",
    "    matrix_ortho = matrix_org.copy()\n",
    "    matrix_ortho = np.asarray(matrix_ortho, dtype=np.float)\n",
    "    coefficient = np.zeros(shape=(m, n)) # 系数矩阵k、k1、k2\n",
    "    coefficient[0, 0] = 1 # b1 = a1\n",
    "\n",
    "    for i in range(1, n):  # 开始处理下一列\n",
    "        coefficient[i, i] = 1\n",
    "        for j in range(i):\n",
    "            b_j = matrix_ortho[:, j]\n",
    "            k_j = np.dot(b_j, matrix_org[:, i]) / np.dot(b_j, b_j)\n",
    "            coefficient[j, i] = k_j\n",
    "            matrix_ortho[:, i] -= k_j * b_j\n",
    "\t# 正交向量b1,b2...做正交化处理，系数也做相应的改变\n",
    "    for i in range(n):\n",
    "        devider = np.dot(matrix_ortho[:, i], matrix_ortho[:, i])\n",
    "        if abs(devider) < 1e-16:  # 避免除以0\n",
    "            matrix_ortho[:, i] *= 0\n",
    "        else:\n",
    "            devider = np.sqrt(devider)\n",
    "            matrix_ortho[:, i] /= devider\n",
    "            coefficient[i, :] *= devider\n",
    "\n",
    "    return matrix_ortho\n"
   ]
  },
  {
   "cell_type": "code",
   "execution_count": 28,
   "metadata": {},
   "outputs": [
    {
     "name": "stdout",
     "output_type": "stream",
     "text": [
      "[0.19514862 0.26262383 0.44221301 0.48329089 0.6320111  0.97566104\n",
      " 1.64830631 3.3607452 ]\n",
      "[0.19514862 0.26262383 0.44221301 0.48329089 0.6320111  0.97566104\n",
      " 1.64830631 3.3607452 ]\n"
     ]
    }
   ],
   "source": [
    "# 计算特征向量矩阵经过施密特正交化后的矩阵Q\n",
    "Q = schmidt_orthogonality(eig_vecs)\n",
    "# 通过QT.X.Q将矩阵进行对角化\n",
    "X_cor_diag = Q.T.dot(X_cor).dot(Q)\n",
    "\n",
    "# 验证：特征值=矩阵被Q对角化的结果\n",
    "print(eig_vals) # Eigen value\n",
    "print(X_cor_diag.diagonal()) # Schimite calculated result"
   ]
  },
  {
   "cell_type": "code",
   "execution_count": 29,
   "metadata": {},
   "outputs": [
    {
     "name": "stdout",
     "output_type": "stream",
     "text": [
      "check\n",
      "check\n",
      "check\n",
      "check\n",
      "check\n",
      "check\n",
      "check\n",
      "check\n"
     ]
    }
   ],
   "source": [
    "# test tthe norm of standardlized matrix has norm = 1\n",
    "for ev in eig_vecs:\n",
    "    np.testing.assert_array_almost_equal(1, np.linalg.norm(ev))\n",
    "    print(\"check\")"
   ]
  },
  {
   "cell_type": "markdown",
   "metadata": {},
   "source": [
    "#### Calculat priciple component"
   ]
  },
  {
   "cell_type": "code",
   "execution_count": 38,
   "metadata": {},
   "outputs": [],
   "source": [
    "X_pca = np.dot(X_scaled, eig_vecs)"
   ]
  },
  {
   "cell_type": "code",
   "execution_count": 31,
   "metadata": {},
   "outputs": [
    {
     "data": {
      "text/plain": [
       "array([ 0.04556445, -0.00274876, -0.02983699,  0.0217335 ,  0.12091482,\n",
       "       -0.16601466,  0.12897346, -0.08191212])"
      ]
     },
     "execution_count": 31,
     "metadata": {},
     "output_type": "execute_result"
    }
   ],
   "source": [
    "X_cor.dot(eig_vecs[:,1])"
   ]
  },
  {
   "cell_type": "code",
   "execution_count": 32,
   "metadata": {},
   "outputs": [
    {
     "data": {
      "text/plain": [
       "array([ 0.04556445, -0.00274876, -0.02983699,  0.0217335 ,  0.12091482,\n",
       "       -0.16601466,  0.12897346, -0.08191212])"
      ]
     },
     "execution_count": 32,
     "metadata": {},
     "output_type": "execute_result"
    }
   ],
   "source": [
    "eig_vals[1]*(eig_vecs[:,1])"
   ]
  },
  {
   "cell_type": "code",
   "execution_count": 33,
   "metadata": {},
   "outputs": [
    {
     "data": {
      "text/plain": [
       "[(3.3607451984576997,\n",
       "  array([ 0.64290058, -0.31189904,  0.30557578, -0.03101518, -0.15934987,\n",
       "         -0.4062745 ,  0.08608338, -0.44406941])),\n",
       " (1.6483063120117716,\n",
       "  array([-0.44086034,  0.49109579,  0.04920223,  0.27860398, -0.15808421,\n",
       "         -0.53818216,  0.07198888, -0.40572527])),\n",
       " (0.975661040905152,\n",
       "  array([-0.51526685, -0.6321386 , -0.12396509, -0.12048346, -0.13602816,\n",
       "          0.18687032,  0.19008256, -0.46417852])),\n",
       " (0.6320110958860928,\n",
       "  array([ 0.04314492,  0.46041071,  0.28266015, -0.58336083,  0.12037404,\n",
       "          0.39519323,  0.20742156, -0.39020837])),\n",
       " (0.4832908926534464,\n",
       "  array([ 0.03729392,  0.08275523, -0.36257286, -0.43575621, -0.51054935,\n",
       "         -0.08336125, -0.62886897, -0.08562866])),\n",
       " (0.4422130128299306,\n",
       "  array([-0.08228769, -0.11361112, -0.05859593, -0.14212325,  0.79275344,\n",
       "         -0.24245431, -0.46863197, -0.22322795])),\n",
       " (0.26262382548550783,\n",
       "  array([-0.05978282, -0.01046653,  0.53236051,  0.43787933, -0.13182374,\n",
       "          0.4224938 , -0.53877313, -0.18712415])),\n",
       " (0.19514862177040018,\n",
       "  array([ 0.33648701,  0.17349703, -0.62501056,  0.40591988,  0.10063444,\n",
       "          0.33161511,  0.05369897, -0.42224005]))]"
      ]
     },
     "execution_count": 33,
     "metadata": {},
     "output_type": "execute_result"
    }
   ],
   "source": [
    "eig_pairs = list(zip(eig_vals,eig_vecs))\n",
    "eig_pairs.sort()\n",
    "eig_pairs.reverse()\n",
    "eig_pairs"
   ]
  },
  {
   "cell_type": "markdown",
   "metadata": {},
   "source": [
    "##### Determine the principle components that stay."
   ]
  },
  {
   "cell_type": "code",
   "execution_count": 34,
   "metadata": {},
   "outputs": [],
   "source": [
    "# Total\n",
    "tot = sum(eig_vals)\n",
    "# Cumulative ratio\n",
    "var_exp = [(i / tot) for i in sorted(eig_vals, reverse=True)]\n",
    "cum_var_exp = np.cumsum(var_exp)"
   ]
  },
  {
   "cell_type": "code",
   "execution_count": 35,
   "metadata": {},
   "outputs": [
    {
     "data": {
      "image/png": "[encoded data removed]",
      "text/plain": [
       "<Figure size 1080x504 with 1 Axes>"
      ]
     },
     "metadata": {},
     "output_type": "display_data"
    }
   ],
   "source": [
    "import seaborn as sns\n",
    "import matplotlib.pyplot as plt\n",
    "sns.set(style=\"whitegrid\")\n",
    "\n",
    "PC_indexes = ['PC %s' %(i+1) for i in range(p)]\n",
    "f, ax = plt.subplots(figsize=(15, 7))\n",
    "sns.set_color_codes(\"pastel\")\n",
    "sns.barplot(y=PC_indexes, x=cum_var_exp,color=\"b\")\n",
    "sns.set_color_codes(\"muted\")\n",
    "sns.barplot(y=PC_indexes, x=var_exp,color=\"b\")\n",
    "sns.despine(left=True, bottom=True)\n",
    "plt.show()"
   ]
  },
  {
   "cell_type": "markdown",
   "metadata": {},
   "source": [
    "- From this plot, 3/4 components can give us about 80% varicance explained"
   ]
  },
  {
   "cell_type": "code",
   "execution_count": 36,
   "metadata": {},
   "outputs": [],
   "source": [
    "# Use 3\n",
    "PCA_X_scaled_manual = np.array([X_scaled.dot(eig_pairs[i][1]) for i in range(3)]).T\n",
    "\n",
    "# Use all and then do best subset regression!\n",
    "PCA_X_scaled = np.array([X_scaled.dot(eig_pairs[i][1]) for i in range(p)]).T"
   ]
  },
  {
   "cell_type": "markdown",
   "metadata": {},
   "source": [
    "#### Use full subset regression using principal components"
   ]
  },
  {
   "cell_type": "code",
   "execution_count": 37,
   "metadata": {},
   "outputs": [
    {
     "name": "stdout",
     "output_type": "stream",
     "text": [
      "—————Based on Cp ———————\n",
      "['PC 1' 'PC 2' 'PC 3' 'PC 4' 'PC 5' 'PC 6' 'PC 7' 'PC 8']\n",
      "[ True  True  True False False False  True  True]\n",
      "             β\n",
      "PC 1  0.182352\n",
      "PC 2 -0.176886\n",
      "PC 3 -0.567179\n",
      "PC 7 -0.140569\n",
      "PC 8  0.303308\n",
      "—————————————————————————\n",
      "Cp  = 0.38716596894837435\n",
      "—————————————————————————\n",
      "\n",
      "—————Based on AIC ———————\n",
      "['PC 1' 'PC 2' 'PC 3' 'PC 4' 'PC 5' 'PC 6' 'PC 7' 'PC 8']\n",
      "[ True  True  True False False False  True  True]\n",
      "             β\n",
      "PC 1  0.182352\n",
      "PC 2 -0.176886\n",
      "PC 3 -0.567179\n",
      "PC 7 -0.140569\n",
      "PC 8  0.303308\n",
      "—————————————————————————\n",
      "AIC  = 351.7324012963414\n",
      "—————————————————————————\n",
      "\n"
     ]
    }
   ],
   "source": [
    "sys.path.append(\"..\")\n",
    "from model1_best_subset_regression import BestSubsetReg as BSR\n",
    "reg1 = BSR.BestSubsetReg(PCA_X_scaled, Y_scaled,names = PC_indexes,inter=False,isCV=False)\n",
    "reg1.results()"
   ]
  }
 ],
 "metadata": {
  "kernelspec": {
   "display_name": "Python 3",
   "language": "python",
   "name": "python3"
  },
  "language_info": {
   "codemirror_mode": {
    "name": "ipython",
    "version": 3
   },
   "file_extension": ".py",
   "mimetype": "text/x-python",
   "name": "python",
   "nbconvert_exporter": "python",
   "pygments_lexer": "ipython3",
   "version": "3.7.4"
  },
  "toc-autonumbering": false,
  "toc-showtags": false,
  "widgets": {
   "application/vnd.jupyter.widget-state+json": {
    "state": {},
    "version_major": 2,
    "version_minor": 0
   }
  }
 },
 "nbformat": 4,
 "nbformat_minor": 4
}
