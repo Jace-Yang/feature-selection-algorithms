{
 "cells": [
  {
   "cell_type": "markdown",
   "metadata": {},
   "source": [
    "# Best Subset Regression Package"
   ]
  },
  {
   "cell_type": "markdown",
   "metadata": {},
   "source": [
    "### 1. Packced code"
   ]
  },
  {
   "cell_type": "code",
   "execution_count": 1,
   "metadata": {},
   "outputs": [],
   "source": [
    "from scipy import linalg\n",
    "from scipy.stats import norm\n",
    "import numpy as np\n",
    "import pandas as pd\n",
    "\n",
    "class BestSubsetReg(object):\n",
    "    \n",
    "    def __init__(self, X, Y, inter = True, isCp = True, isAIC = True, isCV = True):\n",
    "        \n",
    "        self.n, self.p = X.shape\n",
    "        \n",
    "        ## 1. switch on if there is an intercept term in model\n",
    "        if inter:\n",
    "            self.inter = True\n",
    "            self.X = np.c_[(np.ones((self.n,1))),X]\n",
    "            self.p += 1\n",
    "        else:\n",
    "            self.inter = False\n",
    "            self.X = X\n",
    "        \n",
    "        self.isCp = self.isAIC = self.isCV = False\n",
    "        \n",
    "        if isCp:\n",
    "            self.isCp = True\n",
    "\n",
    "        if isAIC:\n",
    "            self.isAIC = True\n",
    "\n",
    "        if isCV:\n",
    "            self.isCV = True\n",
    "\n",
    "        ## 2、Variable selection for full model regression\n",
    "        def turnbits(p, is_inter):\n",
    "            def turnbits_rec(p):\n",
    "                if p==1:\n",
    "                    return np.array([[True, False],[True, True]])\n",
    "                else:\n",
    "                    tmp1 = np.c_[ turnbits_rec(p-1), np.array([False]*(2**(p-1))).reshape((2**(p-1),1))]\n",
    "                    tmp2 = np.c_[ turnbits_rec(p-1), np.array([True]*(2**(p-1))).reshape((2**(p-1),1))]\n",
    "                    return np.r_[tmp1, tmp2]\n",
    "            if is_inter:\n",
    "                return turnbits_rec(self.p-1)\n",
    "            else:\n",
    "                return turnbits_rec(self.p)[1:,1:]\n",
    "        self.ind_l = turnbits(self.p,self.inter)\n",
    "        self.b_l = []\n",
    "        self.RSS_l = []\n",
    "        self.d_l = np.sum(self.ind_l, axis = 1) #List out all possible model parameters \n",
    "    \n",
    "        ## 3、Calculate the matrix needed for regression\n",
    "        self.Y = Y\n",
    "        self.sigma_hat_2 = 0\n",
    "        self.XTX = np.dot(self.X.T, self.X)\n",
    "        self.XTY = np.dot(self.X.T, self.Y)\n",
    "        \n",
    "    # Step 1.  Run all regressions and save the results\n",
    "    def solve_sym(self,xtx, xty):\n",
    "        L = np.linalg.cholesky(xtx)\n",
    "        Lb = linalg.solve_triangular(L,xty,lower=True)\n",
    "        return linalg.solve_triangular(L.T,Lb)\n",
    "    \n",
    "    def all_reg(self):\n",
    "        self.b_l = [self.solve_sym(self.XTX[ind][:,ind], self.XTY[ind]) for ind in self.ind_l]      \n",
    "        YTY = np.sum(self.Y**2)\n",
    "        Y_hatTY_hat = [np.sum(np.power(np.dot(self.XTX[ind][:,ind],b),2)) for ind, b in zip(self.ind_l,self.b_l)]\n",
    "        self.RSS_l = [np.sum((self.Y - np.dot(self.X[:,ind],b))**2) for ind, b in zip(self.ind_l,self.b_l)]\n",
    "\n",
    "        self.sigma_hat_2 = min(self.RSS_l)/(self.n-self.p)\n",
    "        \n",
    "    # Step 2. calculate the evaluation index of each model in the whole model list\n",
    "    def run_Cp(self):\n",
    "        if self.isCp:\n",
    "            self.Cp_l = (self.RSS_l + 2*self.d_l*self.sigma_hat_2 ) / self.n\n",
    "            self.print_result(\"Cp\",self.Cp_l)\n",
    "    \n",
    "    def run_AIC(self):\n",
    "        if self.isAIC:\n",
    "            self.AIC_l = self.n * np.log(self.RSS_l) + 2*self.d_l\n",
    "            self.print_result(\"AIC\",self.AIC_l)\n",
    "            \n",
    "    def run_CV(self, K = 10, seed = 514):\n",
    "        if self.isCV:\n",
    "            np.random.seed(seed)\n",
    "            test_l = np.array_split(np.random.permutation(range(0,self.n)),K)\n",
    "            def CV(ind,test):\n",
    "                ## test set\n",
    "                X_1 = self.X[test][:,ind]\n",
    "                Y_1 = self.Y[test]\n",
    "                ## train set\n",
    "                X_0 = np.delete(self.X[:,ind], test, axis=0)\n",
    "                Y_0 = np.delete(self.Y, test)\n",
    "                XTX_0 = np.dot(X_0.T, X_0)\n",
    "                XTY_0 = np.dot(X_0.T, Y_0)\n",
    "                ## Solve the model\n",
    "                b = self.solve_sym(XTX_0, XTY_0)\n",
    "                ## Fit the training set\n",
    "                Y_frcst = np.dot(X_1,b)\n",
    "                ## Return cross-validation result\n",
    "                return np.sum((Y_1 - Y_frcst)**2)\n",
    "            self.CV_l = [sum([CV(ind,test) for test in test_l])/self.n for ind in self.ind_l]\n",
    "            self.print_result(\"CV\",self.CV_l)\n",
    "\n",
    "#             for ind in self.ind_l:\n",
    "#                 CV_l_ind = []\n",
    "#                 for test in test_l:\n",
    "#                     CV_l_ind.append(CV(ind, test))\n",
    "#                 self.CV_l.append(sum(CV_l_ind))\n",
    "    \n",
    "    # helper function of just printing 1 result\n",
    "    def print_result(self,eval_type,value):\n",
    "            prmt = names\n",
    "            print(\"—————Based on\",eval_type,\"———————\")\n",
    "            min_id = np.argmin(value)\n",
    "            if self.inter:\n",
    "                prmt_temp = prmt[self.ind_l[min_id][1:]]\n",
    "                prmt = np.append(np.array(['intercept']),prmt_temp)\n",
    "            else: \n",
    "                prmt = names[self.ind_l[min_id]]\n",
    "            b_best = self.b_l[min_id]\n",
    "            df = pd.DataFrame(b_best,prmt,columns = [\"β\"])\n",
    "            print(df)\n",
    "            print(\"—————————————————————————\")\n",
    "            print(eval_type,\" =\",value[min_id])\n",
    "            print(\"—————————————————————————\")\n",
    "            print(\"\")\n",
    "            \n",
    "    # Step 3. Print result under 3 different criteria\n",
    "    def print_results(self,names):\n",
    "        self.all_reg()\n",
    "        self.run_Cp()\n",
    "        self.run_AIC()\n",
    "        self.run_CV()"
   ]
  },
  {
   "cell_type": "markdown",
   "metadata": {},
   "source": [
    "- Explanations for `turnbits` function:"
   ]
  },
  {
   "cell_type": "markdown",
   "metadata": {},
   "source": [
    "\n",
    "Get $Z$ iteratively:\n",
    "\n",
    "$$\n",
    "\\begin{array}{cc}\n",
    " & p=1 \\\\\n",
    "\\begin{array}{c}0\\\\1\\end{array}&\n",
    "\\left[\\begin{array}{cc}\n",
    "0\\\\\n",
    "1\n",
    "\\end{array}\\right]\n",
    "\\end{array}\n",
    "\\Rightarrow\n",
    "\\begin{array}{cc}\n",
    " & p=2 \\\\\n",
    "\\begin{array}{c}0\\\\2\\\\1\\\\3\\end{array}&\n",
    "\\left[\\begin{array}{cc}\n",
    "0&0\\\\\n",
    "0&1\\\\\n",
    "1&0\\\\\n",
    "1&1\n",
    "\\end{array}\\right]\n",
    "\\end{array}\n",
    "\\Rightarrow\n",
    "\\begin{array}{cc}\n",
    " & p=3 \\\\\n",
    "\\begin{array}{c}0\\\\4\\\\2\\\\6\\\\1\\\\5\\\\3\\\\7\\end{array}&\n",
    "\\left[\\begin{array}{ccc}\n",
    "0&0&0\\\\\n",
    "0&0&1\\\\\n",
    "0&1&0\\\\\n",
    "0&1&1\\\\\n",
    "1&0&0\\\\\n",
    "1&0&1\\\\\n",
    "1&1&0\\\\\n",
    "1&1&1\n",
    "\\end{array}\\right]\n",
    "\\end{array}\\quad \\cdots \\tag{2}\n",
    "$$"
   ]
  },
  {
   "cell_type": "markdown",
   "metadata": {},
   "source": [
    "### 2 Test"
   ]
  },
  {
   "cell_type": "markdown",
   "metadata": {},
   "source": [
    "#### 2.1 Load a testing data"
   ]
  },
  {
   "cell_type": "code",
   "execution_count": 3,
   "metadata": {},
   "outputs": [],
   "source": [
    "x = np.loadtxt(\"../data/cancer/x.txt\", delimiter=\",\")\n",
    "y = np.loadtxt(\"../data/cancer/y.txt\", delimiter=\",\")\n",
    "names = np.loadtxt(\"../data/cancer/names.txt\", delimiter=\",\", dtype=str)[0:8] # the name of x variables"
   ]
  },
  {
   "cell_type": "markdown",
   "metadata": {},
   "source": [
    "#### 2.2 Result"
   ]
  },
  {
   "cell_type": "markdown",
   "metadata": {},
   "source": [
    "##### With Intercept:"
   ]
  },
  {
   "cell_type": "code",
   "execution_count": 6,
   "metadata": {},
   "outputs": [
    {
     "name": "stdout",
     "output_type": "stream",
     "text": [
      "—————Based on Cp ———————\n",
      "                  β\n",
      "intercept  0.494729\n",
      "lcavol     0.543998\n",
      "lweight    0.588213\n",
      "age       -0.016445\n",
      "lbph       0.101223\n",
      "svi        0.714904\n",
      "—————————————————————————\n",
      "Cp  = 0.5186421068394103\n",
      "—————————————————————————\n",
      "\n",
      "—————Based on AIC ———————\n",
      "                  β\n",
      "intercept  0.494729\n",
      "lcavol     0.543998\n",
      "lweight    0.588213\n",
      "age       -0.016445\n",
      "lbph       0.101223\n",
      "svi        0.714904\n",
      "—————————————————————————\n",
      "AIC  = 380.0243336247493\n",
      "—————————————————————————\n",
      "\n",
      "—————Based on CV ———————\n",
      "                  β\n",
      "intercept -0.777157\n",
      "lcavol     0.525852\n",
      "lweight    0.661770\n",
      "svi        0.665667\n",
      "—————————————————————————\n",
      "CV  = 0.5269161154609794\n",
      "—————————————————————————\n",
      "\n"
     ]
    }
   ],
   "source": [
    "reg1 = BestSubsetReg(x, y)\n",
    "reg1.print_results(names)"
   ]
  },
  {
   "cell_type": "markdown",
   "metadata": {},
   "source": [
    "##### With no Intercept:"
   ]
  },
  {
   "cell_type": "code",
   "execution_count": 5,
   "metadata": {},
   "outputs": [
    {
     "name": "stdout",
     "output_type": "stream",
     "text": [
      "—————Based on Cp ———————\n",
      "                β\n",
      "lcavol   0.536674\n",
      "lweight  0.661742\n",
      "age     -0.012716\n",
      "lbph     0.085012\n",
      "svi      0.705686\n",
      "—————————————————————————\n",
      "Cp  = 0.5096011437549013\n",
      "—————————————————————————\n",
      "\n",
      "—————Based on CV ———————\n",
      "                β\n",
      "lcavol   0.532744\n",
      "lweight  0.440686\n",
      "lbph     0.090976\n",
      "svi      0.713390\n",
      "—————————————————————————\n",
      "CV  = 0.5124266762953688\n",
      "—————————————————————————\n",
      "\n"
     ]
    }
   ],
   "source": [
    "reg2 = BestSubsetReg(x, y, inter=False, isAIC = False)\n",
    "reg2.print_results(names)"
   ]
  }
 ],
 "metadata": {
  "kernelspec": {
   "display_name": "Python 3",
   "language": "python",
   "name": "python3"
  },
  "language_info": {
   "codemirror_mode": {
    "name": "ipython",
    "version": 3
   },
   "file_extension": ".py",
   "mimetype": "text/x-python",
   "name": "python",
   "nbconvert_exporter": "python",
   "pygments_lexer": "ipython3",
   "version": "3.7.4"
  },
  "widgets": {
   "application/vnd.jupyter.widget-state+json": {
    "state": {},
    "version_major": 2,
    "version_minor": 0
   }
  }
 },
 "nbformat": 4,
 "nbformat_minor": 4
}
