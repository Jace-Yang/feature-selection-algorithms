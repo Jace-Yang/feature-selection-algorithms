{
 "cells": [
  {
   "cell_type": "markdown",
   "metadata": {},
   "source": [
    "# Use genreated data to compare PCR and PLSR"
   ]
  },
  {
   "cell_type": "markdown",
   "metadata": {},
   "source": [
    "## 1. Preparation"
   ]
  },
  {
   "cell_type": "code",
   "execution_count": 6,
   "metadata": {},
   "outputs": [],
   "source": [
    "import numpy as np\n",
    "import pandas as pd\n",
    "from scipy.stats import norm\n",
    "from source.scale import scale\n",
    "from source.sim import sim\n",
    "from model.pcr_class import PCR\n",
    "from model.plsr_class import PLSR"
   ]
  },
  {
   "cell_type": "code",
   "execution_count": 7,
   "metadata": {},
   "outputs": [],
   "source": [
    "# Output the optimal function of the number of components and the mean square error\n",
    "def best_result_report(pcr_error, plsr_error):\n",
    "    # pcr\n",
    "    pcr_id = pcr_error.iloc[:,0].idxmin()\n",
    "    pcr_error = pcr_error.iloc[:,0].min()\n",
    "    \n",
    "    # plsr\n",
    "    plsr_id = plsr_error.iloc[:,0].idxmin()\n",
    "    plsr_error = plsr_error.iloc[:,0].min()\n",
    "    \n",
    "    return pd.DataFrame({'# of components':[(pcr_id+1), (plsr_id+1)], 'err_mean':[pcr_error, plsr_error]}, index=['pcr','plsr'])"
   ]
  },
  {
   "cell_type": "code",
   "execution_count": 8,
   "metadata": {},
   "outputs": [],
   "source": [
    "def comparison(beta0, beta1, p=10, rho=0.5):\n",
    "    # generate training data\n",
    "    n_train = 1000\n",
    "    mu = norm.rvs(size=p, scale=1)\n",
    "    x_train, y_train = sim(n_train, p, rho, mu, beta0, beta1)\n",
    "    \n",
    "    # test data\n",
    "    n_test = 100\n",
    "    x_test, y_test = sim(n_test, p, rho, mu, beta0, beta1)\n",
    "    names = list(range(p))\n",
    "\n",
    "    # PCR error\n",
    "    pcr1 = PCR(x_train, y_train, names, is_scale=True, is_var_exp=True)\n",
    "    pcr1.pcr()\n",
    "    pcr_error = pcr1.all_error(x_test, y_test)\n",
    "\n",
    "    # PLSR error\n",
    "    plsr1 = PLSR(x_train, y_train, names, is_scale=True, is_var_exp=True)\n",
    "    plsr1.plsr()\n",
    "    plsr_error = plsr1.all_error(x_test, y_test)\n",
    "    \n",
    "    # print the best result\n",
    "    output = best_result_report(pcr_error, plsr_error)\n",
    "    \n",
    "    return output, pcr_error, plsr_error"
   ]
  },
  {
   "cell_type": "markdown",
   "metadata": {},
   "source": [
    "## 2. Model comparison under parameters changing"
   ]
  },
  {
   "cell_type": "markdown",
   "metadata": {},
   "source": [
    "### 2.1 Change correlation"
   ]
  },
  {
   "cell_type": "code",
   "execution_count": 9,
   "metadata": {},
   "outputs": [
    {
     "data": {
      "text/html": [
       "<div>\n",
       "<style scoped>\n",
       "    .dataframe tbody tr th:only-of-type {\n",
       "        vertical-align: middle;\n",
       "    }\n",
       "\n",
       "    .dataframe tbody tr th {\n",
       "        vertical-align: top;\n",
       "    }\n",
       "\n",
       "    .dataframe thead th {\n",
       "        text-align: right;\n",
       "    }\n",
       "</style>\n",
       "<table border=\"1\" class=\"dataframe\">\n",
       "  <thead>\n",
       "    <tr style=\"text-align: right;\">\n",
       "      <th></th>\n",
       "      <th># of components</th>\n",
       "      <th>err_mean</th>\n",
       "    </tr>\n",
       "  </thead>\n",
       "  <tbody>\n",
       "    <tr>\n",
       "      <th>pcr</th>\n",
       "      <td>19</td>\n",
       "      <td>0.914148</td>\n",
       "    </tr>\n",
       "    <tr>\n",
       "      <th>plsr</th>\n",
       "      <td>4</td>\n",
       "      <td>0.913902</td>\n",
       "    </tr>\n",
       "  </tbody>\n",
       "</table>\n",
       "</div>"
      ],
      "text/plain": [
       "      # of components  err_mean\n",
       "pcr                19  0.914148\n",
       "plsr                4  0.913902"
      ]
     },
     "execution_count": 9,
     "metadata": {},
     "output_type": "execute_result"
    }
   ],
   "source": [
    "# 20 features ρ = 0.2，beta = 0.5\n",
    "beta0, beta1 = 0.5, 0.5 * np.ones(20, dtype=float)\n",
    "compare, pcr_error, plsr_error = comparison(beta0, beta1, p=20, rho=0.2)\n",
    "compare"
   ]
  },
  {
   "cell_type": "code",
   "execution_count": 10,
   "metadata": {},
   "outputs": [
    {
     "data": {
      "text/html": [
       "<div>\n",
       "<style scoped>\n",
       "    .dataframe tbody tr th:only-of-type {\n",
       "        vertical-align: middle;\n",
       "    }\n",
       "\n",
       "    .dataframe tbody tr th {\n",
       "        vertical-align: top;\n",
       "    }\n",
       "\n",
       "    .dataframe thead th {\n",
       "        text-align: right;\n",
       "    }\n",
       "</style>\n",
       "<table border=\"1\" class=\"dataframe\">\n",
       "  <thead>\n",
       "    <tr style=\"text-align: right;\">\n",
       "      <th></th>\n",
       "      <th># of components</th>\n",
       "      <th>err_mean</th>\n",
       "    </tr>\n",
       "  </thead>\n",
       "  <tbody>\n",
       "    <tr>\n",
       "      <th>pcr</th>\n",
       "      <td>17</td>\n",
       "      <td>0.888086</td>\n",
       "    </tr>\n",
       "    <tr>\n",
       "      <th>plsr</th>\n",
       "      <td>3</td>\n",
       "      <td>0.901222</td>\n",
       "    </tr>\n",
       "  </tbody>\n",
       "</table>\n",
       "</div>"
      ],
      "text/plain": [
       "      # of components  err_mean\n",
       "pcr                17  0.888086\n",
       "plsr                3  0.901222"
      ]
     },
     "execution_count": 10,
     "metadata": {},
     "output_type": "execute_result"
    }
   ],
   "source": [
    "# 20 features ρ = 0.5，beta = 0.5\n",
    "beta0, beta1 = 0.5, 0.5 * np.ones(20, dtype=float)\n",
    "compare, pcr_error, plsr_error = comparison(beta0, beta1, p=20, rho=0.5)\n",
    "compare"
   ]
  },
  {
   "cell_type": "code",
   "execution_count": 11,
   "metadata": {},
   "outputs": [
    {
     "data": {
      "text/html": [
       "<div>\n",
       "<style scoped>\n",
       "    .dataframe tbody tr th:only-of-type {\n",
       "        vertical-align: middle;\n",
       "    }\n",
       "\n",
       "    .dataframe tbody tr th {\n",
       "        vertical-align: top;\n",
       "    }\n",
       "\n",
       "    .dataframe thead th {\n",
       "        text-align: right;\n",
       "    }\n",
       "</style>\n",
       "<table border=\"1\" class=\"dataframe\">\n",
       "  <thead>\n",
       "    <tr style=\"text-align: right;\">\n",
       "      <th></th>\n",
       "      <th># of components</th>\n",
       "      <th>err_mean</th>\n",
       "    </tr>\n",
       "  </thead>\n",
       "  <tbody>\n",
       "    <tr>\n",
       "      <th>pcr</th>\n",
       "      <td>5</td>\n",
       "      <td>1.010118</td>\n",
       "    </tr>\n",
       "    <tr>\n",
       "      <th>plsr</th>\n",
       "      <td>2</td>\n",
       "      <td>1.002697</td>\n",
       "    </tr>\n",
       "  </tbody>\n",
       "</table>\n",
       "</div>"
      ],
      "text/plain": [
       "      # of components  err_mean\n",
       "pcr                 5  1.010118\n",
       "plsr                2  1.002697"
      ]
     },
     "execution_count": 11,
     "metadata": {},
     "output_type": "execute_result"
    }
   ],
   "source": [
    "# 20 features ρ = 0.8，beta = 0.5\n",
    "beta0, beta1 = 0.5, 0.5 * np.ones(10, dtype=float)\n",
    "compare, pcr_error, plsr_error = comparison(beta0, beta1, p=10, rho=0.8)\n",
    "compare"
   ]
  },
  {
   "cell_type": "markdown",
   "metadata": {},
   "source": [
    "Conclusion: it seems like when the **correlation** between variables increases, the number of selected components decrease"
   ]
  },
  {
   "cell_type": "markdown",
   "metadata": {},
   "source": [
    "### 2.2 Fixed correlatioin, change p(# of variables)"
   ]
  },
  {
   "cell_type": "code",
   "execution_count": 12,
   "metadata": {},
   "outputs": [
    {
     "data": {
      "text/html": [
       "<div>\n",
       "<style scoped>\n",
       "    .dataframe tbody tr th:only-of-type {\n",
       "        vertical-align: middle;\n",
       "    }\n",
       "\n",
       "    .dataframe tbody tr th {\n",
       "        vertical-align: top;\n",
       "    }\n",
       "\n",
       "    .dataframe thead th {\n",
       "        text-align: right;\n",
       "    }\n",
       "</style>\n",
       "<table border=\"1\" class=\"dataframe\">\n",
       "  <thead>\n",
       "    <tr style=\"text-align: right;\">\n",
       "      <th></th>\n",
       "      <th># of components</th>\n",
       "      <th>err_mean</th>\n",
       "    </tr>\n",
       "  </thead>\n",
       "  <tbody>\n",
       "    <tr>\n",
       "      <th>pcr</th>\n",
       "      <td>8</td>\n",
       "      <td>1.077221</td>\n",
       "    </tr>\n",
       "    <tr>\n",
       "      <th>plsr</th>\n",
       "      <td>2</td>\n",
       "      <td>1.089707</td>\n",
       "    </tr>\n",
       "  </tbody>\n",
       "</table>\n",
       "</div>"
      ],
      "text/plain": [
       "      # of components  err_mean\n",
       "pcr                 8  1.077221\n",
       "plsr                2  1.089707"
      ]
     },
     "execution_count": 12,
     "metadata": {},
     "output_type": "execute_result"
    }
   ],
   "source": [
    "# 20 features ρ = 0.5，beta = 0.5\n",
    "beta0, beta1 = 0.5, 0.5 * np.ones(20, dtype=float)\n",
    "compare, pcr_error, plsr_error = comparison(beta0, beta1, p=20, rho=0.5)\n",
    "compare"
   ]
  },
  {
   "cell_type": "code",
   "execution_count": 13,
   "metadata": {},
   "outputs": [
    {
     "data": {
      "text/html": [
       "<div>\n",
       "<style scoped>\n",
       "    .dataframe tbody tr th:only-of-type {\n",
       "        vertical-align: middle;\n",
       "    }\n",
       "\n",
       "    .dataframe tbody tr th {\n",
       "        vertical-align: top;\n",
       "    }\n",
       "\n",
       "    .dataframe thead th {\n",
       "        text-align: right;\n",
       "    }\n",
       "</style>\n",
       "<table border=\"1\" class=\"dataframe\">\n",
       "  <thead>\n",
       "    <tr style=\"text-align: right;\">\n",
       "      <th></th>\n",
       "      <th># of components</th>\n",
       "      <th>err_mean</th>\n",
       "    </tr>\n",
       "  </thead>\n",
       "  <tbody>\n",
       "    <tr>\n",
       "      <th>pcr</th>\n",
       "      <td>34</td>\n",
       "      <td>0.800413</td>\n",
       "    </tr>\n",
       "    <tr>\n",
       "      <th>plsr</th>\n",
       "      <td>2</td>\n",
       "      <td>0.815886</td>\n",
       "    </tr>\n",
       "  </tbody>\n",
       "</table>\n",
       "</div>"
      ],
      "text/plain": [
       "      # of components  err_mean\n",
       "pcr                34  0.800413\n",
       "plsr                2  0.815886"
      ]
     },
     "execution_count": 13,
     "metadata": {},
     "output_type": "execute_result"
    }
   ],
   "source": [
    "# 50 features ρ = 0.5，beta = 0.5\n",
    "beta0, beta1 = 0.5, 0.5 * np.ones(50, dtype=float)\n",
    "compare, pcr_error, plsr_error = comparison(beta0, beta1, p=50, rho=0.5)\n",
    "compare"
   ]
  },
  {
   "cell_type": "code",
   "execution_count": 14,
   "metadata": {},
   "outputs": [
    {
     "data": {
      "text/html": [
       "<div>\n",
       "<style scoped>\n",
       "    .dataframe tbody tr th:only-of-type {\n",
       "        vertical-align: middle;\n",
       "    }\n",
       "\n",
       "    .dataframe tbody tr th {\n",
       "        vertical-align: top;\n",
       "    }\n",
       "\n",
       "    .dataframe thead th {\n",
       "        text-align: right;\n",
       "    }\n",
       "</style>\n",
       "<table border=\"1\" class=\"dataframe\">\n",
       "  <thead>\n",
       "    <tr style=\"text-align: right;\">\n",
       "      <th></th>\n",
       "      <th># of components</th>\n",
       "      <th>err_mean</th>\n",
       "    </tr>\n",
       "  </thead>\n",
       "  <tbody>\n",
       "    <tr>\n",
       "      <th>pcr</th>\n",
       "      <td>64</td>\n",
       "      <td>0.738692</td>\n",
       "    </tr>\n",
       "    <tr>\n",
       "      <th>plsr</th>\n",
       "      <td>4</td>\n",
       "      <td>0.773934</td>\n",
       "    </tr>\n",
       "  </tbody>\n",
       "</table>\n",
       "</div>"
      ],
      "text/plain": [
       "      # of components  err_mean\n",
       "pcr                64  0.738692\n",
       "plsr                4  0.773934"
      ]
     },
     "execution_count": 14,
     "metadata": {},
     "output_type": "execute_result"
    }
   ],
   "source": [
    "# 100 features ρ = 0.5，beta = 0.5\n",
    "beta0, beta1 = 0.5, 0.5 * np.ones(100, dtype=float)\n",
    "compare, pcr_error, plsr_error = comparison(beta0, beta1, p=100, rho=0.5)\n",
    "compare"
   ]
  },
  {
   "cell_type": "markdown",
   "metadata": {},
   "source": [
    "Conclusion: after regression, the number of partial variables increased significantly\n",
    "- When the variables were 20, there were 2 partial least squares regression and 7 principal component regression\n",
    "- When the number of variables reaches 100, the partial least squares regression is stable within 10, while the principal component regression is 73"
   ]
  },
  {
   "cell_type": "markdown",
   "metadata": {},
   "source": [
    "### 2.3 Change β"
   ]
  },
  {
   "cell_type": "code",
   "execution_count": 45,
   "metadata": {},
   "outputs": [
    {
     "data": {
      "text/html": [
       "<div>\n",
       "<style scoped>\n",
       "    .dataframe tbody tr th:only-of-type {\n",
       "        vertical-align: middle;\n",
       "    }\n",
       "\n",
       "    .dataframe tbody tr th {\n",
       "        vertical-align: top;\n",
       "    }\n",
       "\n",
       "    .dataframe thead th {\n",
       "        text-align: right;\n",
       "    }\n",
       "</style>\n",
       "<table border=\"1\" class=\"dataframe\">\n",
       "  <thead>\n",
       "    <tr style=\"text-align: right;\">\n",
       "      <th></th>\n",
       "      <th># of components</th>\n",
       "      <th>err_mean</th>\n",
       "    </tr>\n",
       "  </thead>\n",
       "  <tbody>\n",
       "    <tr>\n",
       "      <th>pcr</th>\n",
       "      <td>10</td>\n",
       "      <td>0.868890</td>\n",
       "    </tr>\n",
       "    <tr>\n",
       "      <th>plsr</th>\n",
       "      <td>5</td>\n",
       "      <td>0.868676</td>\n",
       "    </tr>\n",
       "  </tbody>\n",
       "</table>\n",
       "</div>"
      ],
      "text/plain": [
       "      # of components  err_mean\n",
       "pcr                10  0.868890\n",
       "plsr                5  0.868676"
      ]
     },
     "execution_count": 45,
     "metadata": {},
     "output_type": "execute_result"
    }
   ],
   "source": [
    "# 10 features ρ = 0.5，beta = 0.01\n",
    "beta0, beta1 = 1, 0.01 * np.ones(10, dtype=float)\n",
    "compare, pcr_error, plsr_error = comparison(beta0, beta1, p=10, rho=0.5)\n",
    "compare"
   ]
  },
  {
   "cell_type": "code",
   "execution_count": 15,
   "metadata": {},
   "outputs": [
    {
     "data": {
      "text/html": [
       "<div>\n",
       "<style scoped>\n",
       "    .dataframe tbody tr th:only-of-type {\n",
       "        vertical-align: middle;\n",
       "    }\n",
       "\n",
       "    .dataframe tbody tr th {\n",
       "        vertical-align: top;\n",
       "    }\n",
       "\n",
       "    .dataframe thead th {\n",
       "        text-align: right;\n",
       "    }\n",
       "</style>\n",
       "<table border=\"1\" class=\"dataframe\">\n",
       "  <thead>\n",
       "    <tr style=\"text-align: right;\">\n",
       "      <th></th>\n",
       "      <th># of components</th>\n",
       "      <th>err_mean</th>\n",
       "    </tr>\n",
       "  </thead>\n",
       "  <tbody>\n",
       "    <tr>\n",
       "      <th>pcr</th>\n",
       "      <td>6</td>\n",
       "      <td>1.013254</td>\n",
       "    </tr>\n",
       "    <tr>\n",
       "      <th>plsr</th>\n",
       "      <td>1</td>\n",
       "      <td>1.018740</td>\n",
       "    </tr>\n",
       "  </tbody>\n",
       "</table>\n",
       "</div>"
      ],
      "text/plain": [
       "      # of components  err_mean\n",
       "pcr                 6  1.013254\n",
       "plsr                1  1.018740"
      ]
     },
     "execution_count": 15,
     "metadata": {},
     "output_type": "execute_result"
    }
   ],
   "source": [
    "# 10 features ρ = 0.5，beta = 0.1\n",
    "beta0, beta1 = 1, 0.1 * np.ones(10, dtype=float)\n",
    "compare, pcr_error, plsr_error = comparison(beta0, beta1, p=10, rho=0.5)\n",
    "compare"
   ]
  },
  {
   "cell_type": "code",
   "execution_count": 16,
   "metadata": {},
   "outputs": [
    {
     "data": {
      "text/html": [
       "<div>\n",
       "<style scoped>\n",
       "    .dataframe tbody tr th:only-of-type {\n",
       "        vertical-align: middle;\n",
       "    }\n",
       "\n",
       "    .dataframe tbody tr th {\n",
       "        vertical-align: top;\n",
       "    }\n",
       "\n",
       "    .dataframe thead th {\n",
       "        text-align: right;\n",
       "    }\n",
       "</style>\n",
       "<table border=\"1\" class=\"dataframe\">\n",
       "  <thead>\n",
       "    <tr style=\"text-align: right;\">\n",
       "      <th></th>\n",
       "      <th># of components</th>\n",
       "      <th>err_mean</th>\n",
       "    </tr>\n",
       "  </thead>\n",
       "  <tbody>\n",
       "    <tr>\n",
       "      <th>pcr</th>\n",
       "      <td>8</td>\n",
       "      <td>0.910174</td>\n",
       "    </tr>\n",
       "    <tr>\n",
       "      <th>plsr</th>\n",
       "      <td>4</td>\n",
       "      <td>0.913461</td>\n",
       "    </tr>\n",
       "  </tbody>\n",
       "</table>\n",
       "</div>"
      ],
      "text/plain": [
       "      # of components  err_mean\n",
       "pcr                 8  0.910174\n",
       "plsr                4  0.913461"
      ]
     },
     "execution_count": 16,
     "metadata": {},
     "output_type": "execute_result"
    }
   ],
   "source": [
    "# 10 features ρ = 0.5，beta = 0.5\n",
    "beta0, beta1 = 1, 0.5 * np.ones(10, dtype=float)\n",
    "compare, pcr_error, plsr_error = comparison(beta0, beta1, p=10, rho=0.5)\n",
    "compare"
   ]
  },
  {
   "cell_type": "code",
   "execution_count": 17,
   "metadata": {},
   "outputs": [
    {
     "data": {
      "text/html": [
       "<div>\n",
       "<style scoped>\n",
       "    .dataframe tbody tr th:only-of-type {\n",
       "        vertical-align: middle;\n",
       "    }\n",
       "\n",
       "    .dataframe tbody tr th {\n",
       "        vertical-align: top;\n",
       "    }\n",
       "\n",
       "    .dataframe thead th {\n",
       "        text-align: right;\n",
       "    }\n",
       "</style>\n",
       "<table border=\"1\" class=\"dataframe\">\n",
       "  <thead>\n",
       "    <tr style=\"text-align: right;\">\n",
       "      <th></th>\n",
       "      <th># of components</th>\n",
       "      <th>err_mean</th>\n",
       "    </tr>\n",
       "  </thead>\n",
       "  <tbody>\n",
       "    <tr>\n",
       "      <th>pcr</th>\n",
       "      <td>5</td>\n",
       "      <td>0.830095</td>\n",
       "    </tr>\n",
       "    <tr>\n",
       "      <th>plsr</th>\n",
       "      <td>2</td>\n",
       "      <td>0.832555</td>\n",
       "    </tr>\n",
       "  </tbody>\n",
       "</table>\n",
       "</div>"
      ],
      "text/plain": [
       "      # of components  err_mean\n",
       "pcr                 5  0.830095\n",
       "plsr                2  0.832555"
      ]
     },
     "execution_count": 17,
     "metadata": {},
     "output_type": "execute_result"
    }
   ],
   "source": [
    "# 10 features ρ = 0.5，beta = 1\n",
    "beta0, beta1 = 1, 1 * np.ones(10, dtype=float)\n",
    "compare, pcr_error, plsr_error = comparison(beta0, beta1, p=10, rho=0.5)\n",
    "compare"
   ]
  },
  {
   "cell_type": "markdown",
   "metadata": {},
   "source": [
    "> Conclusion: the change of β has little effect on the number of components"
   ]
  }
 ],
 "metadata": {
  "kernelspec": {
   "display_name": "Python 3",
   "language": "python",
   "name": "python3"
  },
  "language_info": {
   "codemirror_mode": {
    "name": "ipython",
    "version": 3
   },
   "file_extension": ".py",
   "mimetype": "text/x-python",
   "name": "python",
   "nbconvert_exporter": "python",
   "pygments_lexer": "ipython3",
   "version": "3.7.4"
  },
  "widgets": {
   "application/vnd.jupyter.widget-state+json": {
    "state": {},
    "version_major": 2,
    "version_minor": 0
   }
  }
 },
 "nbformat": 4,
 "nbformat_minor": 4
}
