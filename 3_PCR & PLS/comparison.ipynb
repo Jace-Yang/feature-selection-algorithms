{
 "cells": [
  {
   "cell_type": "markdown",
   "metadata": {},
   "source": [
    "# 用模拟数据比较PCR和PLSR"
   ]
  },
  {
   "cell_type": "markdown",
   "metadata": {},
   "source": [
    "## 1. 准备工作"
   ]
  },
  {
   "cell_type": "code",
   "execution_count": 1,
   "metadata": {},
   "outputs": [],
   "source": [
    "# import numpy as np\n",
    "import pandas as pd\n",
    "from scipy.stats import norm\n",
    "from source.scale import scale\n",
    "from source.sim import sim\n",
    "from model.pcr_class import PCR\n",
    "from model.plsr_class import PLSR"
   ]
  },
  {
   "cell_type": "code",
   "execution_count": 2,
   "metadata": {},
   "outputs": [],
   "source": [
    "# 输出最优的成分数量和均方误差的函数\n",
    "def best_result_report(pcr_error, plsr_error):\n",
    "    # pcr结果\n",
    "    pcr_id = pcr_error.iloc[:,0].idxmin()\n",
    "    pcr_error = pcr_error.iloc[:,0].min()\n",
    "    \n",
    "    # plsr结果\n",
    "    plsr_id = plsr_error.iloc[:,0].idxmin()\n",
    "    plsr_error = plsr_error.iloc[:,0].min()\n",
    "    \n",
    "    return pd.DataFrame({'# of components':[(pcr_id+1), (plsr_id+1)], 'err_mean':[pcr_error, plsr_error]}, index=['pcr','plsr'])"
   ]
  },
  {
   "cell_type": "code",
   "execution_count": 6,
   "metadata": {},
   "outputs": [],
   "source": [
    "def comparison(beta0, beta1, p=10, rho=0.5):\n",
    "    # 模拟的训练数据\n",
    "    n_train = 1000\n",
    "    mu = norm.rvs(size=p, scale=1)\n",
    "    \n",
    "    x_train, y_train = sim(n_train, p, rho, mu, beta0, beta1)\n",
    "    \n",
    "    # 测试数据\n",
    "    n_test = 100\n",
    "    x_test, y_test = sim(n_test, p, rho, mu, beta0, beta1)\n",
    "    names = list(range(p))\n",
    "\n",
    "    # PCR error\n",
    "    pcr1 = PCR(x_train, y_train, names, is_scale=True, is_var_exp=True)\n",
    "    pcr1.pcr()\n",
    "    pcr_error = pcr1.all_error(x_test, y_test)\n",
    "\n",
    "    # PLSR error\n",
    "    plsr1 = PLSR(x_train, y_train, names, is_scale=True, is_var_exp=True)\n",
    "    plsr1.plsr()\n",
    "    plsr_error = plsr1.all_error(x_test, y_test)\n",
    "    \n",
    "    # print the best result\n",
    "    output = best_result_report(pcr_error, plsr_error)\n",
    "    \n",
    "    return output, pcr_error, plsr_error"
   ]
  },
  {
   "cell_type": "markdown",
   "metadata": {},
   "source": [
    "## 2. 模型比较"
   ]
  },
  {
   "cell_type": "markdown",
   "metadata": {},
   "source": [
    "### 2.1 改变ρ的大小"
   ]
  },
  {
   "cell_type": "code",
   "execution_count": 23,
   "metadata": {},
   "outputs": [
    {
     "data": {
      "text/html": [
       "<div>\n",
       "<style scoped>\n",
       "    .dataframe tbody tr th:only-of-type {\n",
       "        vertical-align: middle;\n",
       "    }\n",
       "\n",
       "    .dataframe tbody tr th {\n",
       "        vertical-align: top;\n",
       "    }\n",
       "\n",
       "    .dataframe thead th {\n",
       "        text-align: right;\n",
       "    }\n",
       "</style>\n",
       "<table border=\"1\" class=\"dataframe\">\n",
       "  <thead>\n",
       "    <tr style=\"text-align: right;\">\n",
       "      <th></th>\n",
       "      <th># of components</th>\n",
       "      <th>err_mean</th>\n",
       "    </tr>\n",
       "  </thead>\n",
       "  <tbody>\n",
       "    <tr>\n",
       "      <th>pcr</th>\n",
       "      <td>20</td>\n",
       "      <td>1.169064</td>\n",
       "    </tr>\n",
       "    <tr>\n",
       "      <th>plsr</th>\n",
       "      <td>11</td>\n",
       "      <td>1.169064</td>\n",
       "    </tr>\n",
       "  </tbody>\n",
       "</table>\n",
       "</div>"
      ],
      "text/plain": [
       "      # of components  err_mean\n",
       "pcr                20  1.169064\n",
       "plsr               11  1.169064"
      ]
     },
     "execution_count": 23,
     "metadata": {},
     "output_type": "execute_result"
    }
   ],
   "source": [
    "# 20个变量，ρ为0.2，beta为0.5\n",
    "beta0, beta1 = 0.5, 0.5 * np.ones(20, dtype=float)\n",
    "compare, pcr_error, plsr_error = comparison(beta0, beta1, p=20, rho=0.2)\n",
    "compare"
   ]
  },
  {
   "cell_type": "code",
   "execution_count": 25,
   "metadata": {},
   "outputs": [
    {
     "data": {
      "text/html": [
       "<div>\n",
       "<style scoped>\n",
       "    .dataframe tbody tr th:only-of-type {\n",
       "        vertical-align: middle;\n",
       "    }\n",
       "\n",
       "    .dataframe tbody tr th {\n",
       "        vertical-align: top;\n",
       "    }\n",
       "\n",
       "    .dataframe thead th {\n",
       "        text-align: right;\n",
       "    }\n",
       "</style>\n",
       "<table border=\"1\" class=\"dataframe\">\n",
       "  <thead>\n",
       "    <tr style=\"text-align: right;\">\n",
       "      <th></th>\n",
       "      <th># of components</th>\n",
       "      <th>err_mean</th>\n",
       "    </tr>\n",
       "  </thead>\n",
       "  <tbody>\n",
       "    <tr>\n",
       "      <th>pcr</th>\n",
       "      <td>20</td>\n",
       "      <td>1.036938</td>\n",
       "    </tr>\n",
       "    <tr>\n",
       "      <th>plsr</th>\n",
       "      <td>9</td>\n",
       "      <td>1.036869</td>\n",
       "    </tr>\n",
       "  </tbody>\n",
       "</table>\n",
       "</div>"
      ],
      "text/plain": [
       "      # of components  err_mean\n",
       "pcr                20  1.036938\n",
       "plsr                9  1.036869"
      ]
     },
     "execution_count": 25,
     "metadata": {},
     "output_type": "execute_result"
    }
   ],
   "source": [
    "# 20个变量，ρ为0.5，beta为0.5\n",
    "beta0, beta1 = 0.5, 0.5 * np.ones(20, dtype=float)\n",
    "compare, pcr_error, plsr_error = comparison(beta0, beta1, p=20, rho=0.5)\n",
    "compare"
   ]
  },
  {
   "cell_type": "code",
   "execution_count": 26,
   "metadata": {},
   "outputs": [
    {
     "data": {
      "text/html": [
       "<div>\n",
       "<style scoped>\n",
       "    .dataframe tbody tr th:only-of-type {\n",
       "        vertical-align: middle;\n",
       "    }\n",
       "\n",
       "    .dataframe tbody tr th {\n",
       "        vertical-align: top;\n",
       "    }\n",
       "\n",
       "    .dataframe thead th {\n",
       "        text-align: right;\n",
       "    }\n",
       "</style>\n",
       "<table border=\"1\" class=\"dataframe\">\n",
       "  <thead>\n",
       "    <tr style=\"text-align: right;\">\n",
       "      <th></th>\n",
       "      <th># of components</th>\n",
       "      <th>err_mean</th>\n",
       "    </tr>\n",
       "  </thead>\n",
       "  <tbody>\n",
       "    <tr>\n",
       "      <th>pcr</th>\n",
       "      <td>10</td>\n",
       "      <td>0.901291</td>\n",
       "    </tr>\n",
       "    <tr>\n",
       "      <th>plsr</th>\n",
       "      <td>9</td>\n",
       "      <td>0.901291</td>\n",
       "    </tr>\n",
       "  </tbody>\n",
       "</table>\n",
       "</div>"
      ],
      "text/plain": [
       "      # of components  err_mean\n",
       "pcr                10  0.901291\n",
       "plsr                9  0.901291"
      ]
     },
     "execution_count": 26,
     "metadata": {},
     "output_type": "execute_result"
    }
   ],
   "source": [
    "# 20个变量，ρ为0.8，beta为0.5\n",
    "beta0, beta1 = 0.5, 0.5 * np.ones(10, dtype=float)\n",
    "compare, pcr_error, plsr_error = comparison(beta0, beta1, p=10, rho=0.8)\n",
    "compare"
   ]
  },
  {
   "cell_type": "markdown",
   "metadata": {},
   "source": [
    "结论: 当变量之间的**相关系数增大**，所选出的成分数量也越来越少"
   ]
  },
  {
   "cell_type": "markdown",
   "metadata": {},
   "source": [
    "### 2.2 改变p的大小（变量个数）"
   ]
  },
  {
   "cell_type": "code",
   "execution_count": 42,
   "metadata": {},
   "outputs": [
    {
     "data": {
      "text/html": [
       "<div>\n",
       "<style scoped>\n",
       "    .dataframe tbody tr th:only-of-type {\n",
       "        vertical-align: middle;\n",
       "    }\n",
       "\n",
       "    .dataframe tbody tr th {\n",
       "        vertical-align: top;\n",
       "    }\n",
       "\n",
       "    .dataframe thead th {\n",
       "        text-align: right;\n",
       "    }\n",
       "</style>\n",
       "<table border=\"1\" class=\"dataframe\">\n",
       "  <thead>\n",
       "    <tr style=\"text-align: right;\">\n",
       "      <th></th>\n",
       "      <th># of components</th>\n",
       "      <th>err_mean</th>\n",
       "    </tr>\n",
       "  </thead>\n",
       "  <tbody>\n",
       "    <tr>\n",
       "      <th>pcr</th>\n",
       "      <td>7</td>\n",
       "      <td>1.52230</td>\n",
       "    </tr>\n",
       "    <tr>\n",
       "      <th>plsr</th>\n",
       "      <td>2</td>\n",
       "      <td>1.55351</td>\n",
       "    </tr>\n",
       "  </tbody>\n",
       "</table>\n",
       "</div>"
      ],
      "text/plain": [
       "      # of components  err_mean\n",
       "pcr                 7   1.52230\n",
       "plsr                2   1.55351"
      ]
     },
     "execution_count": 42,
     "metadata": {},
     "output_type": "execute_result"
    }
   ],
   "source": [
    "# 20个变量，ρ为0.5，beta为0.5\n",
    "beta0, beta1 = 0.5, 0.5 * np.ones(20, dtype=float)\n",
    "compare, pcr_error, plsr_error = comparison(beta0, beta1, p=20, rho=0.5)\n",
    "compare"
   ]
  },
  {
   "cell_type": "code",
   "execution_count": 43,
   "metadata": {},
   "outputs": [
    {
     "data": {
      "text/html": [
       "<div>\n",
       "<style scoped>\n",
       "    .dataframe tbody tr th:only-of-type {\n",
       "        vertical-align: middle;\n",
       "    }\n",
       "\n",
       "    .dataframe tbody tr th {\n",
       "        vertical-align: top;\n",
       "    }\n",
       "\n",
       "    .dataframe thead th {\n",
       "        text-align: right;\n",
       "    }\n",
       "</style>\n",
       "<table border=\"1\" class=\"dataframe\">\n",
       "  <thead>\n",
       "    <tr style=\"text-align: right;\">\n",
       "      <th></th>\n",
       "      <th># of components</th>\n",
       "      <th>err_mean</th>\n",
       "    </tr>\n",
       "  </thead>\n",
       "  <tbody>\n",
       "    <tr>\n",
       "      <th>pcr</th>\n",
       "      <td>17</td>\n",
       "      <td>0.762844</td>\n",
       "    </tr>\n",
       "    <tr>\n",
       "      <th>plsr</th>\n",
       "      <td>3</td>\n",
       "      <td>0.784744</td>\n",
       "    </tr>\n",
       "  </tbody>\n",
       "</table>\n",
       "</div>"
      ],
      "text/plain": [
       "      # of components  err_mean\n",
       "pcr                17  0.762844\n",
       "plsr                3  0.784744"
      ]
     },
     "execution_count": 43,
     "metadata": {},
     "output_type": "execute_result"
    }
   ],
   "source": [
    "# 50个变量，ρ为0.5，beta为0.5\n",
    "beta0, beta1 = 0.5, 0.5 * np.ones(50, dtype=float)\n",
    "compare, pcr_error, plsr_error = comparison(beta0, beta1, p=50, rho=0.5)\n",
    "compare"
   ]
  },
  {
   "cell_type": "code",
   "execution_count": 44,
   "metadata": {},
   "outputs": [
    {
     "data": {
      "text/html": [
       "<div>\n",
       "<style scoped>\n",
       "    .dataframe tbody tr th:only-of-type {\n",
       "        vertical-align: middle;\n",
       "    }\n",
       "\n",
       "    .dataframe tbody tr th {\n",
       "        vertical-align: top;\n",
       "    }\n",
       "\n",
       "    .dataframe thead th {\n",
       "        text-align: right;\n",
       "    }\n",
       "</style>\n",
       "<table border=\"1\" class=\"dataframe\">\n",
       "  <thead>\n",
       "    <tr style=\"text-align: right;\">\n",
       "      <th></th>\n",
       "      <th># of components</th>\n",
       "      <th>err_mean</th>\n",
       "    </tr>\n",
       "  </thead>\n",
       "  <tbody>\n",
       "    <tr>\n",
       "      <th>pcr</th>\n",
       "      <td>73</td>\n",
       "      <td>0.879095</td>\n",
       "    </tr>\n",
       "    <tr>\n",
       "      <th>plsr</th>\n",
       "      <td>4</td>\n",
       "      <td>0.898751</td>\n",
       "    </tr>\n",
       "  </tbody>\n",
       "</table>\n",
       "</div>"
      ],
      "text/plain": [
       "      # of components  err_mean\n",
       "pcr                73  0.879095\n",
       "plsr                4  0.898751"
      ]
     },
     "execution_count": 44,
     "metadata": {},
     "output_type": "execute_result"
    }
   ],
   "source": [
    "# 100个变量，ρ为0.5，beta为0.5\n",
    "beta0, beta1 = 0.5, 0.5 * np.ones(100, dtype=float)\n",
    "compare, pcr_error, plsr_error = comparison(beta0, beta1, p=100, rho=0.5)\n",
    "compare"
   ]
  },
  {
   "cell_type": "markdown",
   "metadata": {},
   "source": [
    "结论：随着变量数增多以后，主成分回归得到的变量数开始显著多于偏最小二乘回归\n",
    "- 当变量为20个时，偏最小二乘回归有2个，而主成分回归选出了7个\n",
    "- 当变量达到100个时，偏最小二乘回归稳定在10个以内，主成分回归却达到了73个"
   ]
  },
  {
   "cell_type": "markdown",
   "metadata": {},
   "source": [
    "### 2.3 改变β的大小"
   ]
  },
  {
   "cell_type": "code",
   "execution_count": 45,
   "metadata": {},
   "outputs": [
    {
     "data": {
      "text/html": [
       "<div>\n",
       "<style scoped>\n",
       "    .dataframe tbody tr th:only-of-type {\n",
       "        vertical-align: middle;\n",
       "    }\n",
       "\n",
       "    .dataframe tbody tr th {\n",
       "        vertical-align: top;\n",
       "    }\n",
       "\n",
       "    .dataframe thead th {\n",
       "        text-align: right;\n",
       "    }\n",
       "</style>\n",
       "<table border=\"1\" class=\"dataframe\">\n",
       "  <thead>\n",
       "    <tr style=\"text-align: right;\">\n",
       "      <th></th>\n",
       "      <th># of components</th>\n",
       "      <th>err_mean</th>\n",
       "    </tr>\n",
       "  </thead>\n",
       "  <tbody>\n",
       "    <tr>\n",
       "      <th>pcr</th>\n",
       "      <td>10</td>\n",
       "      <td>0.868890</td>\n",
       "    </tr>\n",
       "    <tr>\n",
       "      <th>plsr</th>\n",
       "      <td>5</td>\n",
       "      <td>0.868676</td>\n",
       "    </tr>\n",
       "  </tbody>\n",
       "</table>\n",
       "</div>"
      ],
      "text/plain": [
       "      # of components  err_mean\n",
       "pcr                10  0.868890\n",
       "plsr                5  0.868676"
      ]
     },
     "execution_count": 45,
     "metadata": {},
     "output_type": "execute_result"
    }
   ],
   "source": [
    "# 10个变量，ρ为0.5，β为0.01\n",
    "beta0, beta1 = 1, 0.01 * np.ones(10, dtype=float)\n",
    "compare, pcr_error, plsr_error = comparison(beta0, beta1, p=10, rho=0.5)\n",
    "compare"
   ]
  },
  {
   "cell_type": "code",
   "execution_count": 46,
   "metadata": {},
   "outputs": [
    {
     "data": {
      "text/html": [
       "<div>\n",
       "<style scoped>\n",
       "    .dataframe tbody tr th:only-of-type {\n",
       "        vertical-align: middle;\n",
       "    }\n",
       "\n",
       "    .dataframe tbody tr th {\n",
       "        vertical-align: top;\n",
       "    }\n",
       "\n",
       "    .dataframe thead th {\n",
       "        text-align: right;\n",
       "    }\n",
       "</style>\n",
       "<table border=\"1\" class=\"dataframe\">\n",
       "  <thead>\n",
       "    <tr style=\"text-align: right;\">\n",
       "      <th></th>\n",
       "      <th># of components</th>\n",
       "      <th>err_mean</th>\n",
       "    </tr>\n",
       "  </thead>\n",
       "  <tbody>\n",
       "    <tr>\n",
       "      <th>pcr</th>\n",
       "      <td>4</td>\n",
       "      <td>0.735293</td>\n",
       "    </tr>\n",
       "    <tr>\n",
       "      <th>plsr</th>\n",
       "      <td>1</td>\n",
       "      <td>0.741542</td>\n",
       "    </tr>\n",
       "  </tbody>\n",
       "</table>\n",
       "</div>"
      ],
      "text/plain": [
       "      # of components  err_mean\n",
       "pcr                 4  0.735293\n",
       "plsr                1  0.741542"
      ]
     },
     "execution_count": 46,
     "metadata": {},
     "output_type": "execute_result"
    }
   ],
   "source": [
    "# 10个变量，ρ为0.5，β为0.1\n",
    "beta0, beta1 = 1, 0.1 * np.ones(10, dtype=float)\n",
    "compare, pcr_error, plsr_error = comparison(beta0, beta1, p=10, rho=0.5)\n",
    "compare"
   ]
  },
  {
   "cell_type": "code",
   "execution_count": 48,
   "metadata": {},
   "outputs": [
    {
     "data": {
      "text/html": [
       "<div>\n",
       "<style scoped>\n",
       "    .dataframe tbody tr th:only-of-type {\n",
       "        vertical-align: middle;\n",
       "    }\n",
       "\n",
       "    .dataframe tbody tr th {\n",
       "        vertical-align: top;\n",
       "    }\n",
       "\n",
       "    .dataframe thead th {\n",
       "        text-align: right;\n",
       "    }\n",
       "</style>\n",
       "<table border=\"1\" class=\"dataframe\">\n",
       "  <thead>\n",
       "    <tr style=\"text-align: right;\">\n",
       "      <th></th>\n",
       "      <th># of components</th>\n",
       "      <th>err_mean</th>\n",
       "    </tr>\n",
       "  </thead>\n",
       "  <tbody>\n",
       "    <tr>\n",
       "      <th>pcr</th>\n",
       "      <td>6</td>\n",
       "      <td>0.793092</td>\n",
       "    </tr>\n",
       "    <tr>\n",
       "      <th>plsr</th>\n",
       "      <td>4</td>\n",
       "      <td>0.799774</td>\n",
       "    </tr>\n",
       "  </tbody>\n",
       "</table>\n",
       "</div>"
      ],
      "text/plain": [
       "      # of components  err_mean\n",
       "pcr                 6  0.793092\n",
       "plsr                4  0.799774"
      ]
     },
     "execution_count": 48,
     "metadata": {},
     "output_type": "execute_result"
    }
   ],
   "source": [
    "# 10个变量，ρ为0.5，β为0.5\n",
    "beta0, beta1 = 1, 0.5 * np.ones(10, dtype=float)\n",
    "compare, pcr_error, plsr_error = comparison(beta0, beta1, p=10, rho=0.5)\n",
    "compare"
   ]
  },
  {
   "cell_type": "code",
   "execution_count": 49,
   "metadata": {},
   "outputs": [
    {
     "data": {
      "text/html": [
       "<div>\n",
       "<style scoped>\n",
       "    .dataframe tbody tr th:only-of-type {\n",
       "        vertical-align: middle;\n",
       "    }\n",
       "\n",
       "    .dataframe tbody tr th {\n",
       "        vertical-align: top;\n",
       "    }\n",
       "\n",
       "    .dataframe thead th {\n",
       "        text-align: right;\n",
       "    }\n",
       "</style>\n",
       "<table border=\"1\" class=\"dataframe\">\n",
       "  <thead>\n",
       "    <tr style=\"text-align: right;\">\n",
       "      <th></th>\n",
       "      <th># of components</th>\n",
       "      <th>err_mean</th>\n",
       "    </tr>\n",
       "  </thead>\n",
       "  <tbody>\n",
       "    <tr>\n",
       "      <th>pcr</th>\n",
       "      <td>8</td>\n",
       "      <td>1.110821</td>\n",
       "    </tr>\n",
       "    <tr>\n",
       "      <th>plsr</th>\n",
       "      <td>4</td>\n",
       "      <td>1.138068</td>\n",
       "    </tr>\n",
       "  </tbody>\n",
       "</table>\n",
       "</div>"
      ],
      "text/plain": [
       "      # of components  err_mean\n",
       "pcr                 8  1.110821\n",
       "plsr                4  1.138068"
      ]
     },
     "execution_count": 49,
     "metadata": {},
     "output_type": "execute_result"
    }
   ],
   "source": [
    "# 10个变量，ρ为0.5，β为1\n",
    "beta0, beta1 = 1, 1 * np.ones(10, dtype=float)\n",
    "compare, pcr_error, plsr_error = comparison(beta0, beta1, p=10, rho=0.5)\n",
    "compare"
   ]
  },
  {
   "cell_type": "markdown",
   "metadata": {},
   "source": [
    "> 结论：改变β对成分选取个数的影响并不大"
   ]
  }
 ],
 "metadata": {
  "kernelspec": {
   "display_name": "Python 3",
   "language": "python",
   "name": "python3"
  },
  "language_info": {
   "codemirror_mode": {
    "name": "ipython",
    "version": 3
   },
   "file_extension": ".py",
   "mimetype": "text/x-python",
   "name": "python",
   "nbconvert_exporter": "python",
   "pygments_lexer": "ipython3",
   "version": "3.7.4"
  },
  "widgets": {
   "application/vnd.jupyter.widget-state+json": {
    "state": {},
    "version_major": 2,
    "version_minor": 0
   }
  }
 },
 "nbformat": 4,
 "nbformat_minor": 4
}
