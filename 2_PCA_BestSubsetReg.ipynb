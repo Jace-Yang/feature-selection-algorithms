{
 "cells": [
  {
   "cell_type": "markdown",
   "metadata": {},
   "source": [
    "# 第三次作业 "
   ]
  },
  {
   "cell_type": "markdown",
   "metadata": {
    "toc-hr-collapsed": false
   },
   "source": [
    "## 使用真实数据"
   ]
  },
  {
   "cell_type": "markdown",
   "metadata": {},
   "source": [
    "### 导入数据"
   ]
  },
  {
   "cell_type": "code",
   "execution_count": 345,
   "metadata": {},
   "outputs": [],
   "source": [
    "import numpy as np\n",
    "import os\n",
    "from scipy.stats import norm\n",
    "\n",
    "# 实验数据\n",
    "os.chdir('/Users/chichu/学习资料/数据挖掘/Best Subset Regression')\n",
    "X = np.loadtxt(\"./Data/x.txt\", delimiter=\",\")\n",
    "n,p = X.shape\n",
    "Y = np.loadtxt(\"./Data/y.txt\", delimiter=\",\")\n",
    "names = np.loadtxt(\"./Data/names.txt\", delimiter=\",\", dtype=str)[0:8]"
   ]
  },
  {
   "cell_type": "markdown",
   "metadata": {},
   "source": [
    "### 自变量描述性统计"
   ]
  },
  {
   "cell_type": "code",
   "execution_count": 346,
   "metadata": {},
   "outputs": [
    {
     "data": {
      "image/png": "[encoded data removed]",
      "text/plain": [
       "<Figure size 864x360 with 1 Axes>"
      ]
     },
     "metadata": {},
     "output_type": "display_data"
    }
   ],
   "source": [
    "import matplotlib.pyplot as plt\n",
    "import numpy as np\n",
    "\n",
    "fig, axes = plt.subplots(figsize=(12, 5))\n",
    "axes.violinplot(X, showmeans=False, showmedians=True)\n",
    "axes.set_title('Violin plot of X')\n",
    "axes.yaxis.grid(True)\n",
    "axes.set_xticks([y + 1 for y in range(p)], )\n",
    "axes.set_xlabel('xlabel')\n",
    "axes.set_ylabel('ylabel')\n",
    "plt.setp(axes, xticks=[y + 1 for y in range(p)],\n",
    "         xticklabels=names,)\n",
    "plt.show()"
   ]
  },
  {
   "cell_type": "markdown",
   "metadata": {
    "toc-hr-collapsed": false
   },
   "source": [
    "### 主成分分析"
   ]
  },
  {
   "cell_type": "markdown",
   "metadata": {},
   "source": [
    "#### 第一步、标准化"
   ]
  },
  {
   "cell_type": "code",
   "execution_count": 347,
   "metadata": {},
   "outputs": [],
   "source": [
    "from sklearn.preprocessing import StandardScaler\n",
    "X_scaled = StandardScaler().fit_transform(X)\n",
    "Y_scaled = StandardScaler().fit_transform(Y.reshape(-1, 1))"
   ]
  },
  {
   "cell_type": "markdown",
   "metadata": {},
   "source": [
    "#### 第二步、计算标准化矩阵的协方差矩阵，即原始矩阵的相关系数矩阵\n",
    "- 用np.cov或np.corrcoef\n",
    " - 原始矩阵的相关系数矩阵就是标准化后矩阵的协方差矩阵\n",
    "- 对X.scaled利用协方差矩阵公式"
   ]
  },
  {
   "cell_type": "code",
   "execution_count": 348,
   "metadata": {
    "collapsed": true,
    "jupyter": {
     "outputs_hidden": true
    }
   },
   "outputs": [
    {
     "name": "stdout",
     "output_type": "stream",
     "text": [
      "Covariance matrix of X_scaled: \n",
      "[[ 1.          0.28052139  0.22499988  0.0273497   0.538845    0.67531048\n",
      "   0.43241706  0.43365225]\n",
      " [ 0.28052139  1.          0.34796911  0.44226439  0.15538491  0.16453715\n",
      "   0.0568821   0.10735379]\n",
      " [ 0.22499988  0.34796911  1.          0.3501859   0.11765804  0.12766775\n",
      "   0.2688916   0.27611245]\n",
      " [ 0.0273497   0.44226439  0.3501859   1.         -0.08584324 -0.00699943\n",
      "   0.07782045  0.07846002]\n",
      " [ 0.538845    0.15538491  0.11765804 -0.08584324  1.          0.67311118\n",
      "   0.32041222  0.45764762]\n",
      " [ 0.67531048  0.16453715  0.12766775 -0.00699943  0.67311118  1.\n",
      "   0.51483006  0.63152825]\n",
      " [ 0.43241706  0.0568821   0.2688916   0.07782045  0.32041222  0.51483006\n",
      "   1.          0.75190451]\n",
      " [ 0.43365225  0.10735379  0.27611245  0.07846002  0.45764762  0.63152825\n",
      "   0.75190451  1.        ]]\n"
     ]
    }
   ],
   "source": [
    "n,p = X.shape\n",
    "X_cor = np.corrcoef(X_scaled.T)\n",
    "    # 直接用np.cov求: np.cov(X_scaled.T)\n",
    "    # X_cov = np.dot(X_scaled.T, X_scaled)/(n-1)\n",
    "print('Covariance matrix of X_scaled: \\n%s' %X_cor)"
   ]
  },
  {
   "cell_type": "markdown",
   "metadata": {
    "toc-hr-collapsed": true,
    "toc-nb-collapsed": true
   },
   "source": [
    "#### 第三步、特征值与特征向量"
   ]
  },
  {
   "cell_type": "code",
   "execution_count": 349,
   "metadata": {
    "collapsed": true,
    "jupyter": {
     "outputs_hidden": true
    }
   },
   "outputs": [
    {
     "name": "stdout",
     "output_type": "stream",
     "text": [
      "Eigenvectors \n",
      "[[ 0.33648701  0.17349703 -0.62501056  0.40591988  0.10063444  0.33161511\n",
      "   0.05369897 -0.42224005]\n",
      " [-0.05978282 -0.01046653  0.53236051  0.43787933 -0.13182374  0.4224938\n",
      "  -0.53877313 -0.18712415]\n",
      " [-0.08228769 -0.11361112 -0.05859593 -0.14212325  0.79275344 -0.24245431\n",
      "  -0.46863197 -0.22322795]\n",
      " [ 0.03729392  0.08275523 -0.36257286 -0.43575621 -0.51054935 -0.08336125\n",
      "  -0.62886897 -0.08562866]\n",
      " [ 0.04314492  0.46041071  0.28266015 -0.58336083  0.12037404  0.39519323\n",
      "   0.20742156 -0.39020837]\n",
      " [-0.51526685 -0.6321386  -0.12396509 -0.12048346 -0.13602816  0.18687032\n",
      "   0.19008256 -0.46417852]\n",
      " [-0.44086034  0.49109579  0.04920223  0.27860398 -0.15808421 -0.53818216\n",
      "   0.07198888 -0.40572527]\n",
      " [ 0.64290058 -0.31189904  0.30557578 -0.03101518 -0.15934987 -0.4062745\n",
      "   0.08608338 -0.44406941]]\n",
      "\n",
      "Eigenvalues \n",
      "[0.19514862 0.26262383 0.44221301 0.48329089 0.6320111  0.97566104\n",
      " 1.64830631 3.3607452 ]\n"
     ]
    }
   ],
   "source": [
    "eig_vals, eig_vecs = np.linalg.eigh(X_cor)\n",
    "print('Eigenvectors \\n%s' %eig_vecs)\n",
    "print('\\nEigenvalues \\n%s' %eig_vals)"
   ]
  },
  {
   "cell_type": "markdown",
   "metadata": {},
   "source": [
    "##### 特征值与特征向量的对角化性质验证"
   ]
  },
  {
   "cell_type": "code",
   "execution_count": 350,
   "metadata": {},
   "outputs": [],
   "source": [
    "# 施密特正交化\n",
    "def schmidt_orthogonality(matrix_org, debug=False):\n",
    "    \"\"\"\n",
    "    b1 = a1, b2 = a2 - kb1, b3 = a3 - k1b1 - k2b2\n",
    "    :param matrix_org: m x n matrix, m >= n 且满秩\n",
    "    :return:\n",
    "    \"\"\"\n",
    "    m, n = matrix_org.shape\n",
    "    matrix_ortho = matrix_org.copy()\n",
    "    matrix_ortho = np.asarray(matrix_ortho, dtype=np.float)\n",
    "    coefficient = np.zeros(shape=(m, n)) # 系数矩阵k、k1、k2\n",
    "    coefficient[0, 0] = 1 # b1 = a1\n",
    "\n",
    "    for i in range(1, n):  # 开始处理下一列\n",
    "        coefficient[i, i] = 1\n",
    "        for j in range(i):\n",
    "            b_j = matrix_ortho[:, j]\n",
    "            k_j = np.dot(b_j, matrix_org[:, i]) / np.dot(b_j, b_j)\n",
    "            coefficient[j, i] = k_j\n",
    "            matrix_ortho[:, i] -= k_j * b_j\n",
    "\t# 正交向量b1,b2...做正交化处理，系数也做相应的改变\n",
    "    for i in range(n):\n",
    "        devider = np.dot(matrix_ortho[:, i], matrix_ortho[:, i])\n",
    "        if abs(devider) < 1e-16:  # 避免除以0\n",
    "            matrix_ortho[:, i] *= 0\n",
    "        else:\n",
    "            devider = np.sqrt(devider)\n",
    "            matrix_ortho[:, i] /= devider\n",
    "            coefficient[i, :] *= devider\n",
    "\n",
    "    return matrix_ortho"
   ]
  },
  {
   "cell_type": "code",
   "execution_count": 351,
   "metadata": {
    "collapsed": true,
    "jupyter": {
     "outputs_hidden": true
    }
   },
   "outputs": [
    {
     "data": {
      "text/plain": [
       "array([[ 1.95148622e-01,  7.52074198e-17,  4.21893954e-16,\n",
       "        -9.77671665e-18, -3.36925781e-17, -1.46052541e-18,\n",
       "        -1.05837700e-16, -2.29621200e-16],\n",
       "       [-1.77999550e-17,  2.62623825e-01, -4.01895097e-17,\n",
       "        -2.15867927e-16, -1.94459841e-17,  9.53392246e-17,\n",
       "        -1.36543175e-16,  1.31509854e-17],\n",
       "       [ 3.99614321e-16, -1.39254228e-17,  4.42213013e-01,\n",
       "         1.33622960e-16,  2.37511247e-16, -1.50168828e-16,\n",
       "         4.46474912e-16,  1.14025999e-16],\n",
       "       [ 4.34000280e-17, -1.76970736e-16,  1.55900633e-16,\n",
       "         4.83290893e-01,  7.32188657e-17, -5.75922898e-17,\n",
       "         2.28069969e-16,  3.59246450e-16],\n",
       "       [-7.57188981e-17, -1.59743286e-17,  2.60641956e-16,\n",
       "         5.62533912e-17,  6.32011096e-01,  1.89301937e-16,\n",
       "         1.30852162e-16, -9.41873497e-17],\n",
       "       [-1.12904648e-17, -8.94139623e-19, -1.41457843e-16,\n",
       "        -3.92422296e-17,  2.38739484e-17,  9.75661041e-01,\n",
       "        -1.41885502e-16,  1.69346925e-17],\n",
       "       [-5.55111512e-17, -1.11022302e-16,  3.88578059e-16,\n",
       "         1.87350135e-16,  1.11022302e-16, -1.11022302e-16,\n",
       "         1.64830631e+00, -3.46944695e-17],\n",
       "       [-2.22044605e-16,  0.00000000e+00,  1.66533454e-16,\n",
       "         2.08166817e-16,  0.00000000e+00,  0.00000000e+00,\n",
       "        -1.11022302e-16,  3.36074520e+00]])"
      ]
     },
     "execution_count": 351,
     "metadata": {},
     "output_type": "execute_result"
    }
   ],
   "source": [
    "# 计算特征向量矩阵经过施密特正交化后的矩阵Q\n",
    "Q = schmidt_orthogonality(eig_vecs)\n",
    "# 通过QT.X.Q将矩阵进行对角化\n",
    "X_cor_diag = Q.T.dot(X_cor).dot(Q)\n",
    "X_cor_diag"
   ]
  },
  {
   "cell_type": "code",
   "execution_count": 352,
   "metadata": {},
   "outputs": [
    {
     "name": "stdout",
     "output_type": "stream",
     "text": [
      "[0.19514862 0.26262383 0.44221301 0.48329089 0.6320111  0.97566104\n",
      " 1.64830631 3.3607452 ]\n",
      "[0.19514862 0.26262383 0.44221301 0.48329089 0.6320111  0.97566104\n",
      " 1.64830631 3.3607452 ]\n"
     ]
    }
   ],
   "source": [
    "# 验证：特征值=矩阵被Q对角化的结果\n",
    "print(eig_vals)\n",
    "print(X_cor_diag.diagonal())"
   ]
  },
  {
   "cell_type": "markdown",
   "metadata": {},
   "source": [
    "##### 通过SVD分解的第一个元素验证"
   ]
  },
  {
   "cell_type": "code",
   "execution_count": 353,
   "metadata": {
    "collapsed": true,
    "jupyter": {
     "outputs_hidden": true
    }
   },
   "outputs": [
    {
     "name": "stdout",
     "output_type": "stream",
     "text": [
      "Eigenvectors \n",
      "[[ 0.33648701  0.17349703 -0.62501056  0.40591988  0.10063444  0.33161511\n",
      "   0.05369897 -0.42224005]\n",
      " [-0.05978282 -0.01046653  0.53236051  0.43787933 -0.13182374  0.4224938\n",
      "  -0.53877313 -0.18712415]\n",
      " [-0.08228769 -0.11361112 -0.05859593 -0.14212325  0.79275344 -0.24245431\n",
      "  -0.46863197 -0.22322795]\n",
      " [ 0.03729392  0.08275523 -0.36257286 -0.43575621 -0.51054935 -0.08336125\n",
      "  -0.62886897 -0.08562866]\n",
      " [ 0.04314492  0.46041071  0.28266015 -0.58336083  0.12037404  0.39519323\n",
      "   0.20742156 -0.39020837]\n",
      " [-0.51526685 -0.6321386  -0.12396509 -0.12048346 -0.13602816  0.18687032\n",
      "   0.19008256 -0.46417852]\n",
      " [-0.44086034  0.49109579  0.04920223  0.27860398 -0.15808421 -0.53818216\n",
      "   0.07198888 -0.40572527]\n",
      " [ 0.64290058 -0.31189904  0.30557578 -0.03101518 -0.15934987 -0.4062745\n",
      "   0.08608338 -0.44406941]]\n",
      "\n",
      "U of SVD \n",
      "[[-0.42224005  0.05369897 -0.33161511  0.10063444 -0.40591988  0.62501056\n",
      "   0.17349703  0.33648701]\n",
      " [-0.18712415 -0.53877313 -0.4224938  -0.13182374 -0.43787933 -0.53236051\n",
      "  -0.01046653 -0.05978282]\n",
      " [-0.22322795 -0.46863197  0.24245431  0.79275344  0.14212325  0.05859593\n",
      "  -0.11361112 -0.08228769]\n",
      " [-0.08562866 -0.62886897  0.08336125 -0.51054935  0.43575621  0.36257286\n",
      "   0.08275523  0.03729392]\n",
      " [-0.39020837  0.20742156 -0.39519323  0.12037404  0.58336083 -0.28266015\n",
      "   0.46041071  0.04314492]\n",
      " [-0.46417852  0.19008256 -0.18687032 -0.13602816  0.12048346  0.12396509\n",
      "  -0.6321386  -0.51526685]\n",
      " [-0.40572527  0.07198888  0.53818216 -0.15808421 -0.27860398 -0.04920223\n",
      "   0.49109579 -0.44086034]\n",
      " [-0.44406941  0.08608338  0.4062745  -0.15934987  0.03101518 -0.30557578\n",
      "  -0.31189904  0.64290058]]\n"
     ]
    }
   ],
   "source": [
    "u,s,v = np.linalg.svd(X_scaled.T)\n",
    "print('Eigenvectors \\n%s' %eig_vecs)\n",
    "print('\\nU of SVD \\n%s' %u)"
   ]
  },
  {
   "cell_type": "markdown",
   "metadata": {},
   "source": [
    "##### 验证标准化矩阵特征向量的范数为1"
   ]
  },
  {
   "cell_type": "code",
   "execution_count": 354,
   "metadata": {},
   "outputs": [
    {
     "name": "stdout",
     "output_type": "stream",
     "text": [
      "Everything good\n"
     ]
    }
   ],
   "source": [
    "for ev in eig_vecs:\n",
    "    np.testing.assert_array_almost_equal(1, np.linalg.norm(ev))\n",
    "print(\"Everything good\")"
   ]
  },
  {
   "cell_type": "markdown",
   "metadata": {
    "toc-hr-collapsed": true,
    "toc-nb-collapsed": true
   },
   "source": [
    "#### 第四步、计算X的每个主成分"
   ]
  },
  {
   "cell_type": "code",
   "execution_count": 355,
   "metadata": {
    "collapsed": true,
    "jupyter": {
     "outputs_hidden": true
    }
   },
   "outputs": [
    {
     "data": {
      "text/plain": [
       "array([[ 9.96006296e-03, -7.39645315e-02,  8.01640715e-02,\n",
       "        -6.89940045e-01, -4.99201285e-01, -3.11100323e-01,\n",
       "         2.09903156e+00,  2.99718105e+00],\n",
       "       [-2.75023775e-01, -2.71510993e-01,  9.24995300e-01,\n",
       "        -4.21674861e-01,  1.51323791e-01, -1.44801560e-01,\n",
       "         8.78388304e-01,  2.66375753e+00],\n",
       "       [-3.81316099e-01,  3.12991513e-02,  4.21217894e-02,\n",
       "        -8.41239341e-01,  1.76606482e+00, -2.19348856e+00,\n",
       "         8.44109874e-01,  1.40204950e+00],\n",
       "       [-3.30041033e-01, -3.01638199e-01,  9.90772411e-01,\n",
       "        -5.32124795e-01,  1.44717983e-01, -2.40631471e-01,\n",
       "         9.15350796e-01,  2.75545327e+00],\n",
       "       [ 1.65683106e-01, -7.73337946e-02,  1.03666072e-01,\n",
       "         2.21741615e-01,  6.94406618e-01,  3.29735463e-01,\n",
       "         5.62719840e-01,  1.86506875e+00],\n",
       "       [-1.89354440e-01, -1.54790961e-01,  9.04488795e-01,\n",
       "        -3.80692451e-01, -6.81623266e-01,  1.13489770e-02,\n",
       "         1.49680222e+00,  2.96474610e+00],\n",
       "       [ 1.85318350e-01,  3.62793686e-03, -3.55956274e-01,\n",
       "        -3.83573056e-01,  1.86528563e-01,  1.85423193e-01,\n",
       "        -4.88561253e-01,  1.67311446e+00],\n",
       "       [ 2.53905488e-01,  1.40375397e-01, -4.34131933e-01,\n",
       "        -4.94148954e-01, -8.05888506e-01,  3.81566671e-01,\n",
       "        -5.95956805e-01,  1.78614346e+00],\n",
       "       [-1.21175925e-01, -7.59648702e-02,  1.17061796e+00,\n",
       "         9.06838096e-02, -1.07536078e+00,  4.94829101e-01,\n",
       "         1.30638699e+00,  2.82034034e+00],\n",
       "       [ 2.93193290e-02, -1.66227416e-01,  1.42730486e-01,\n",
       "        -1.73307292e-01,  8.14195567e-01, -3.86017745e-02,\n",
       "         7.12696714e-01,  2.10763292e+00],\n",
       "       [-3.43017074e-02, -2.01075703e-01,  5.59284640e-01,\n",
       "         1.68670519e-01,  9.19741351e-01,  2.61306555e-01,\n",
       "         1.33018219e-01,  1.87813051e+00],\n",
       "       [-4.02409903e-01, -2.55136229e-01,  7.55554326e-01,\n",
       "        -1.15411024e+00, -3.68651426e-01, -2.84873058e-01,\n",
       "        -9.62947029e-01,  2.36018506e+00],\n",
       "       [ 2.41052138e-01,  3.67375138e-02, -5.50309137e-01,\n",
       "         3.66593978e-01,  5.34555596e-01, -9.42765030e-01,\n",
       "         1.35659645e+00,  4.01643327e-01],\n",
       "       [-1.19834118e-01,  5.92016585e-01, -7.42028080e-01,\n",
       "         3.13245270e-01,  1.17768477e+00, -8.80622916e-01,\n",
       "         9.43958626e-01,  9.99786532e-01],\n",
       "       [-5.02720439e-01,  2.60174227e-01, -4.92368759e-02,\n",
       "         7.84479712e-01, -1.46613478e-01, -6.16444764e-02,\n",
       "         1.13381981e+00,  8.85094680e-01],\n",
       "       [ 3.99964379e-01, -1.27148779e-02, -8.12760701e-01,\n",
       "         3.68895598e-02,  1.30516904e+00,  5.40566575e-02,\n",
       "         8.15202439e-01,  1.62315002e+00],\n",
       "       [-4.20178826e-01, -2.32142645e-01,  4.31026194e-01,\n",
       "        -7.57629650e-01,  2.66321713e-02, -1.40879301e+00,\n",
       "        -9.48762161e-01,  5.48732387e-01],\n",
       "       [-1.19244697e-01, -7.15425622e-01, -6.32923625e-01,\n",
       "         7.47782772e-01,  1.01544395e+00,  1.08476102e+00,\n",
       "         3.45935653e-01,  5.09141827e-01],\n",
       "       [ 4.51456257e-02,  5.44712862e-02,  7.64238409e-01,\n",
       "         7.47930570e-04, -1.61507384e+00,  4.82395816e-01,\n",
       "         2.03948532e+00,  3.04331688e+00],\n",
       "       [-6.29708316e-02, -1.19341112e-01,  6.98113080e-02,\n",
       "        -6.44194359e-01,  3.03314024e-01,  1.20651259e-01,\n",
       "        -1.79286698e+00,  1.47571860e+00],\n",
       "       [ 3.14475603e-01,  2.75960797e-02, -9.99259814e-02,\n",
       "         4.03029600e-01,  4.11317759e-01,  5.27037221e-01,\n",
       "         7.87114511e-01,  1.81859837e+00],\n",
       "       [-5.40769582e-01, -4.72119097e-01, -1.16796375e+00,\n",
       "         4.84971613e-02, -1.04173846e+00, -3.48629549e-03,\n",
       "        -4.90339531e-02, -5.39244053e-01],\n",
       "       [-1.49834470e-01, -1.88014388e-01,  6.00076933e-01,\n",
       "        -4.04907751e-01,  7.16173385e-02, -2.85855622e-02,\n",
       "         5.08484047e-01,  2.41216972e+00],\n",
       "       [ 3.05691275e-01, -9.85071345e-01, -3.94444838e-01,\n",
       "         1.27424062e-01, -5.73111540e-01, -7.71301050e-01,\n",
       "         3.62166464e-01, -1.02303932e+00],\n",
       "       [ 2.70167699e-02, -7.34675554e-02, -2.12997946e-01,\n",
       "        -6.99289875e-01,  2.83374909e-01,  5.75777186e-02,\n",
       "        -1.49496078e+00,  1.50562730e+00],\n",
       "       [ 3.85366104e-01,  3.77960444e-02, -1.12265491e+00,\n",
       "        -4.78007487e-01,  8.94962725e-01, -7.25059937e-02,\n",
       "        -1.30733165e-01,  1.46887251e+00],\n",
       "       [ 7.96102370e-01, -5.27358040e-01,  1.34440844e+00,\n",
       "         6.36252267e-01,  2.31095057e-01, -1.23491663e+00,\n",
       "         3.94106714e-01, -1.34329809e-01],\n",
       "       [-3.53903374e-01,  3.09787992e-01,  7.01476296e-01,\n",
       "        -4.28738176e-01, -4.69966962e-01, -9.53589878e-01,\n",
       "        -1.58844417e+00,  8.67497706e-01],\n",
       "       [ 9.64964082e-01, -8.69411599e-01, -6.13170591e-02,\n",
       "        -3.96772523e-01, -3.58298723e-02, -1.86070626e+00,\n",
       "         4.83656077e-01, -6.61689481e-01],\n",
       "       [-4.97227246e-01, -1.24250613e+00, -1.14239933e+00,\n",
       "         4.19859729e-01,  8.81372629e-01,  1.04829190e+00,\n",
       "         9.30986627e-01,  1.99329332e-01],\n",
       "       [-2.24903132e-01, -2.83574007e-01,  2.56372236e-01,\n",
       "        -3.83489355e-01, -4.70179020e-01,  6.37273966e-01,\n",
       "        -1.85896616e+00,  1.25889606e+00],\n",
       "       [-3.28198173e-03, -3.94641693e-02,  7.15288446e-02,\n",
       "        -5.83807409e-01, -2.41829782e-01,  2.60882729e-01,\n",
       "        -1.47030948e+00,  1.63284571e+00],\n",
       "       [ 3.40019478e-01,  2.39717771e-02, -1.40675683e+00,\n",
       "        -9.76470074e-01,  8.86305057e-01, -3.61524722e-01,\n",
       "        -6.39425057e-01,  1.42116434e+00],\n",
       "       [ 6.48849273e-02, -6.02891412e-02,  3.56454563e-01,\n",
       "        -5.06593304e-02, -1.74548866e-01,  2.18636646e-01,\n",
       "         1.24315035e+00,  2.44550393e+00],\n",
       "       [-2.51449634e-01, -4.67167609e-01,  1.80088034e-01,\n",
       "        -3.33376331e-01,  7.45260105e-01, -5.30197024e-02,\n",
       "         8.17316519e-01,  2.00761495e+00],\n",
       "       [-2.00325132e-01,  7.89509121e-01, -1.21061693e-01,\n",
       "         3.90666863e-01, -7.63273602e-01,  7.62616749e-02,\n",
       "        -1.84194648e+00,  4.47438443e-01],\n",
       "       [-1.78585736e+00, -2.89063109e-01, -2.34232272e-01,\n",
       "         7.25971106e-01,  7.51607143e-01, -9.70622549e-01,\n",
       "        -7.55604983e-02, -1.23773493e+00],\n",
       "       [-6.25457857e-02,  3.91308918e-01, -8.44472890e-01,\n",
       "        -6.33635036e-01,  9.05078390e-01, -1.83349137e+00,\n",
       "         1.90572615e+00,  1.57278550e+00],\n",
       "       [-2.72533093e-01,  2.05037212e-01,  9.46731407e-03,\n",
       "        -7.41059564e-01, -1.19045996e-01,  1.29710532e+00,\n",
       "        -6.06144245e-01, -2.59401303e+00],\n",
       "       [-5.88024229e-01,  2.36856637e-01, -9.66693995e-01,\n",
       "        -5.02831830e-01, -1.00377592e+00, -6.67737518e-01,\n",
       "         7.45385724e-01,  1.02335134e+00],\n",
       "       [ 1.83126819e-01,  1.10260996e+00,  9.03247763e-01,\n",
       "         9.91487292e-01, -5.55562917e-01, -3.33544053e+00,\n",
       "         1.59641253e+00, -8.60461483e-01],\n",
       "       [-1.22377335e-01,  4.99133736e-01,  1.77945645e-01,\n",
       "         9.79606109e-01,  1.04165000e+00, -3.17177165e-01,\n",
       "         2.92772691e-02,  6.02581731e-01],\n",
       "       [-2.17534529e-01, -3.69491882e-01, -1.28453768e-01,\n",
       "        -4.10067880e-01, -6.44282183e-01,  6.61031946e-01,\n",
       "        -1.21334956e+00,  1.23284997e+00],\n",
       "       [-8.85705197e-01, -3.04066808e-01,  8.60689855e-02,\n",
       "         1.26222789e+00,  6.22551050e-02,  5.70644788e-01,\n",
       "         5.04337259e-01, -6.90364013e-02],\n",
       "       [-9.30327634e-02,  1.77415662e-01, -9.34709111e-01,\n",
       "        -2.87873263e-01, -3.43536804e-01, -7.07552066e-01,\n",
       "        -7.01838770e-01,  1.03809781e-01],\n",
       "       [ 2.25951208e-01,  7.05610378e-01, -6.95164651e-01,\n",
       "         2.83158068e-01, -3.35310270e-01, -5.00587146e-01,\n",
       "        -8.07290372e-03,  6.63061752e-01],\n",
       "       [-3.93178158e-01,  3.47508536e-01,  4.19131346e-01,\n",
       "        -5.41433611e-01,  2.30495256e-02, -1.49091390e+00,\n",
       "        -8.93592618e-01, -5.37353533e+00],\n",
       "       [ 1.61646745e-01, -1.40770731e-01,  2.29813234e-01,\n",
       "         1.93292110e-01, -4.51762671e-01, -5.31724959e-01,\n",
       "        -1.55727196e+00, -4.29275824e-01],\n",
       "       [ 6.52902631e-01,  3.59620802e-01, -1.94022077e-01,\n",
       "         9.97990817e-01, -1.27418459e+00,  1.29798072e+00,\n",
       "         1.72743202e+00,  2.05082791e+00],\n",
       "       [ 4.60579933e-02, -2.42785629e-01, -7.86000095e-01,\n",
       "        -5.13988697e-01,  5.15176624e-01,  2.54740735e-01,\n",
       "        -1.21581675e+00,  1.03542786e+00],\n",
       "       [ 6.50000450e-01, -4.97813210e-03,  1.18874890e+00,\n",
       "         1.13364499e+00,  6.88226133e-01, -6.87138751e-01,\n",
       "        -2.57182567e-01, -4.08901260e-02],\n",
       "       [ 3.81069669e-01,  2.05097667e-01, -2.63245289e-01,\n",
       "         2.77942375e-01, -4.85473500e-01,  1.11694468e+00,\n",
       "        -2.04396247e+00,  9.19987705e-01],\n",
       "       [ 5.79816075e-01, -7.29868597e-01,  4.46081286e-01,\n",
       "        -3.75598042e-01, -9.50663031e-01, -1.33992229e+00,\n",
       "        -5.72602565e-01, -5.19980164e-01],\n",
       "       [-2.68037160e-01, -8.50553755e-01, -3.56685802e-01,\n",
       "         4.37165238e-01, -5.97985422e-01,  7.56895208e-02,\n",
       "        -1.38863503e+00, -1.44399707e+00],\n",
       "       [ 3.77540362e-01,  9.50087450e-01, -9.25645153e-01,\n",
       "         1.57913336e+00,  3.05162356e-01,  3.68697850e-01,\n",
       "         8.72363057e-01,  4.09823983e-01],\n",
       "       [-2.90420134e-02,  6.34796084e-01,  2.06618905e-01,\n",
       "         5.06400508e-01, -6.41768351e-01,  1.60147135e-02,\n",
       "        -2.12094154e+00,  1.76335906e-01],\n",
       "       [-7.45082013e-01, -1.87296296e-02, -6.61365123e-01,\n",
       "         2.23892443e-01, -1.14376386e+00, -2.32070972e-01,\n",
       "         2.60953410e+00,  1.22810616e+00],\n",
       "       [ 2.53535184e-01,  2.32429075e-01,  6.91961366e-02,\n",
       "        -1.35181447e-01, -1.81827932e+00,  8.41083451e-01,\n",
       "        -2.72100574e-01,  2.04789294e+00],\n",
       "       [-1.96083946e-01,  3.16584811e-01,  9.11430968e-01,\n",
       "         5.76988628e-01,  3.22987114e-01, -3.96017184e-01,\n",
       "        -1.52930705e+00,  3.82241517e-01],\n",
       "       [ 5.79088103e-01,  3.66237970e-01,  3.00207920e-01,\n",
       "         3.12667776e-01, -9.11172856e-01, -6.17874761e-01,\n",
       "        -8.34517627e-01,  2.42850594e-01],\n",
       "       [-9.81575281e-02, -1.03515686e-01,  6.04884872e-01,\n",
       "        -8.99331919e-02,  1.95460801e-01,  7.54717653e-01,\n",
       "        -3.14496686e+00,  9.39643807e-01],\n",
       "       [-2.63730525e-01,  1.16056971e-01, -6.79260855e-02,\n",
       "        -1.33669600e+00, -7.20939363e-01,  8.34558935e-01,\n",
       "         6.06649423e-02, -2.16329358e+00],\n",
       "       [-1.32425917e-01, -2.76788973e-01,  3.87647554e-02,\n",
       "         1.62908577e+00,  4.22242704e-01, -2.56081598e+00,\n",
       "         9.00193980e-01, -3.38626938e+00],\n",
       "       [ 7.99312916e-02, -2.20510849e-01,  2.37240303e-01,\n",
       "        -1.33546448e+00, -7.28434516e-01,  6.57452946e-01,\n",
       "        -4.57568361e-01, -2.76035479e+00],\n",
       "       [ 4.96032745e-01,  8.28835102e-02, -3.78588928e-01,\n",
       "         8.36802805e-01,  9.62950325e-01,  8.27061516e-01,\n",
       "         2.55720914e-01,  1.24511581e+00],\n",
       "       [-1.16283351e-01,  2.15050426e-01, -2.40083174e-01,\n",
       "         3.66014326e-01, -8.61848043e-01, -1.03958060e-01,\n",
       "        -7.39937270e-01,  1.02419655e-01],\n",
       "       [ 4.70348223e-01, -1.13563200e+00, -2.71078765e-01,\n",
       "         1.23997112e-01, -6.95896662e-01, -6.46850390e-01,\n",
       "        -1.01865873e+00, -1.73383087e+00],\n",
       "       [-2.59985565e-01,  3.18187710e-01, -8.09790509e-01,\n",
       "         3.45023431e-01,  2.06691327e-02,  4.58543318e-02,\n",
       "        -2.13366768e+00, -4.89970368e-01],\n",
       "       [-3.92725047e-01, -3.85901536e-01,  1.90604755e+00,\n",
       "         6.75719019e-01,  1.03890875e+00,  7.29550532e-01,\n",
       "        -1.16905593e+00,  1.65680590e+00],\n",
       "       [-6.28416478e-01,  3.75416722e-01,  6.10390841e-01,\n",
       "         7.78491131e-01, -2.33431195e-01,  5.06832868e-01,\n",
       "        -3.17556711e+00, -2.47818653e-01],\n",
       "       [ 3.47399290e-01,  1.79050682e-02,  8.94178946e-01,\n",
       "        -5.18950214e-01, -7.25734718e-03,  5.74737128e-01,\n",
       "         1.69488925e+00, -1.91140976e+00],\n",
       "       [ 1.69273061e-01,  3.40753846e-01, -7.93732698e-01,\n",
       "        -6.04890576e-01,  8.92034690e-01, -1.42843717e+00,\n",
       "        -1.44152365e+00,  1.59469624e-01],\n",
       "       [-4.81023810e-01,  7.21995104e-01,  1.12130330e+00,\n",
       "        -5.38466570e-01,  1.16311107e+00,  7.58290031e-01,\n",
       "         5.29357327e-01, -1.05115960e+00],\n",
       "       [-4.95977311e-02,  1.22629375e+00,  4.80402071e-01,\n",
       "        -6.89899214e-01, -1.14104444e+00, -1.84301775e+00,\n",
       "         1.62229646e+00, -3.41066717e+00],\n",
       "       [-5.96977983e-01,  2.19064061e-01,  4.95132388e-02,\n",
       "        -4.24640156e-02,  1.14400654e+00,  1.51298131e+00,\n",
       "         8.11549408e-01, -2.26686023e+00],\n",
       "       [ 6.96110953e-02, -2.19306039e-01, -8.03395027e-01,\n",
       "        -1.05588801e+00,  5.37598990e-01,  5.62829312e-01,\n",
       "         1.20130494e+00, -2.75533599e+00],\n",
       "       [ 4.28311685e-01, -7.08719508e-01,  2.76439881e-01,\n",
       "         5.93494166e-01, -4.23350269e-01, -2.15744933e-01,\n",
       "        -2.26481799e+00, -1.68177125e+00],\n",
       "       [ 8.25346191e-02,  7.04197251e-01, -5.78122001e-01,\n",
       "         7.36666870e-01,  6.84815691e-01,  1.17196107e-01,\n",
       "        -3.02062246e+00, -6.08673130e-01],\n",
       "       [ 2.35579774e-01, -6.88611810e-01,  3.87552712e-01,\n",
       "        -5.51909572e-01,  8.46539992e-01,  5.15721407e-01,\n",
       "         1.37851022e+00, -3.03967784e+00],\n",
       "       [ 5.62577209e-01, -4.73243229e-01, -4.07293510e-02,\n",
       "         1.48645140e+00,  1.78703405e-01,  2.10177955e-02,\n",
       "         5.92094318e-01, -1.00965556e+00],\n",
       "       [ 1.34587770e-01, -4.04659839e-01, -8.90192467e-01,\n",
       "        -3.62206435e-01,  3.05163844e-03, -1.18192901e+00,\n",
       "         3.95056814e-01, -2.04890657e-01],\n",
       "       [ 1.53846969e-01, -1.30725293e+00, -8.12088911e-01,\n",
       "         4.19006350e-01, -1.27159899e+00, -1.91824569e-01,\n",
       "         9.04537236e-01, -1.49871177e+00],\n",
       "       [-5.08963653e-02,  5.89763727e-01,  2.55153638e-01,\n",
       "        -4.42292673e-01,  1.72632857e+00,  8.05459719e-01,\n",
       "        -2.90379912e-01, -2.14505279e+00],\n",
       "       [-7.05748530e-01,  1.42872507e-01, -3.79660200e-01,\n",
       "         1.30738441e+00, -1.19391857e+00, -1.80547704e+00,\n",
       "        -1.98190139e-01, -3.09409465e+00],\n",
       "       [-2.78855254e-01, -4.05170502e-01, -5.40911653e-01,\n",
       "         5.98588728e-02, -1.23137573e+00, -1.66680303e-01,\n",
       "        -4.74772253e-01, -4.44138681e-01],\n",
       "       [ 3.53790811e-01, -2.85688226e-01, -8.67018074e-02,\n",
       "        -2.60958171e-01,  4.68982889e-01,  9.12222694e-01,\n",
       "         1.73891455e+00, -2.85303342e+00],\n",
       "       [ 6.11561790e-01,  3.38463108e-01, -9.29228690e-01,\n",
       "         1.33269863e-01, -7.87221135e-01,  9.42633350e-01,\n",
       "        -8.22452729e-01,  1.21638056e+00],\n",
       "       [ 9.67367157e-03,  7.70901685e-01,  4.33252193e-01,\n",
       "        -7.11840456e-01,  5.35065486e-01,  5.46728642e-01,\n",
       "         1.61402208e+00, -1.00985353e+00],\n",
       "       [-1.82296496e-02, -4.65821402e-01,  1.65496193e+00,\n",
       "         7.68509809e-01,  1.49278319e-01,  1.94642056e+00,\n",
       "         1.55828826e-01, -3.27685995e+00],\n",
       "       [ 6.61679606e-01, -7.61123528e-02,  6.81217571e-01,\n",
       "        -1.49921471e+00,  7.91102056e-01, -3.53277760e-01,\n",
       "        -4.95794439e-01, -2.53444432e+00],\n",
       "       [ 7.21142333e-01,  1.83381789e-01, -4.37584317e-01,\n",
       "         1.65817431e+00,  1.34368634e+00,  1.50260927e+00,\n",
       "        -5.48914697e-01,  4.91813300e-01],\n",
       "       [ 5.59079692e-01,  1.98711415e+00, -3.00501997e-01,\n",
       "        -7.61160067e-01, -3.15774445e-01,  9.44653349e-01,\n",
       "        -1.43925280e-01, -7.65801064e-01],\n",
       "       [ 4.96065551e-01,  3.12019911e-02,  6.69615494e-01,\n",
       "        -4.70097310e-02,  8.44334464e-01,  8.66856986e-01,\n",
       "         8.74956091e-01, -2.62479522e+00],\n",
       "       [ 2.72024185e-01,  3.82708288e-01,  6.36796761e-02,\n",
       "         7.26294710e-01, -1.61503821e+00,  2.35644365e+00,\n",
       "         2.46734497e+00, -2.23344708e+00],\n",
       "       [-8.05378000e-01,  3.36629951e-01, -4.91092029e-01,\n",
       "        -2.50300101e-01, -5.40759185e-01,  1.81381502e+00,\n",
       "         2.50056059e+00, -1.54930567e+00],\n",
       "       [ 9.72227845e-01, -1.19464456e-01, -2.91974010e-02,\n",
       "        -1.06575261e+00, -2.97731526e-01,  3.52152859e-01,\n",
       "        -1.82360827e-01, -3.16873366e+00],\n",
       "       [-7.89151885e-01, -4.61219674e-02, -5.84269278e-01,\n",
       "        -3.67258425e-01,  2.95929919e-01,  1.83247415e+00,\n",
       "         7.82313730e-02, -2.90239122e+00]])"
      ]
     },
     "execution_count": 355,
     "metadata": {},
     "output_type": "execute_result"
    }
   ],
   "source": [
    "X_pca = np.dot(X_scaled, eig_vecs)\n",
    "X_pca"
   ]
  },
  {
   "cell_type": "code",
   "execution_count": 356,
   "metadata": {},
   "outputs": [
    {
     "data": {
      "text/plain": [
       "array([ 0.04556445, -0.00274876, -0.02983699,  0.0217335 ,  0.12091482,\n",
       "       -0.16601466,  0.12897346, -0.08191212])"
      ]
     },
     "execution_count": 356,
     "metadata": {},
     "output_type": "execute_result"
    }
   ],
   "source": [
    "X_cor.dot(eig_vecs[:,1])"
   ]
  },
  {
   "cell_type": "code",
   "execution_count": 357,
   "metadata": {},
   "outputs": [
    {
     "data": {
      "text/plain": [
       "array([ 0.04556445, -0.00274876, -0.02983699,  0.0217335 ,  0.12091482,\n",
       "       -0.16601466,  0.12897346, -0.08191212])"
      ]
     },
     "execution_count": 357,
     "metadata": {},
     "output_type": "execute_result"
    }
   ],
   "source": [
    "eig_vals[1]*(eig_vecs[:,1])"
   ]
  },
  {
   "cell_type": "code",
   "execution_count": 358,
   "metadata": {
    "collapsed": true,
    "jupyter": {
     "outputs_hidden": true
    }
   },
   "outputs": [
    {
     "data": {
      "text/plain": [
       "[(3.3607451984576997,\n",
       "  array([ 0.64290058, -0.31189904,  0.30557578, -0.03101518, -0.15934987,\n",
       "         -0.4062745 ,  0.08608338, -0.44406941])),\n",
       " (1.6483063120117716,\n",
       "  array([-0.44086034,  0.49109579,  0.04920223,  0.27860398, -0.15808421,\n",
       "         -0.53818216,  0.07198888, -0.40572527])),\n",
       " (0.975661040905152,\n",
       "  array([-0.51526685, -0.6321386 , -0.12396509, -0.12048346, -0.13602816,\n",
       "          0.18687032,  0.19008256, -0.46417852])),\n",
       " (0.6320110958860928,\n",
       "  array([ 0.04314492,  0.46041071,  0.28266015, -0.58336083,  0.12037404,\n",
       "          0.39519323,  0.20742156, -0.39020837])),\n",
       " (0.4832908926534464,\n",
       "  array([ 0.03729392,  0.08275523, -0.36257286, -0.43575621, -0.51054935,\n",
       "         -0.08336125, -0.62886897, -0.08562866])),\n",
       " (0.4422130128299306,\n",
       "  array([-0.08228769, -0.11361112, -0.05859593, -0.14212325,  0.79275344,\n",
       "         -0.24245431, -0.46863197, -0.22322795])),\n",
       " (0.26262382548550783,\n",
       "  array([-0.05978282, -0.01046653,  0.53236051,  0.43787933, -0.13182374,\n",
       "          0.4224938 , -0.53877313, -0.18712415])),\n",
       " (0.19514862177040018,\n",
       "  array([ 0.33648701,  0.17349703, -0.62501056,  0.40591988,  0.10063444,\n",
       "          0.33161511,  0.05369897, -0.42224005]))]"
      ]
     },
     "execution_count": 358,
     "metadata": {},
     "output_type": "execute_result"
    }
   ],
   "source": [
    "eig_pairs = list(zip(eig_vals,eig_vecs))\n",
    "eig_pairs.sort()\n",
    "eig_pairs.reverse()\n",
    "eig_pairs"
   ]
  },
  {
   "cell_type": "markdown",
   "metadata": {},
   "source": [
    "##### 根据主成分占比来判断留下的主成分个数"
   ]
  },
  {
   "cell_type": "code",
   "execution_count": 359,
   "metadata": {},
   "outputs": [],
   "source": [
    "# 总特征值\n",
    "tot = sum(eig_vals)\n",
    "# 每一个特征值/总特征值\n",
    "var_exp = [(i / tot) for i in sorted(eig_vals, reverse=True)]\n",
    "# 把比值进行加总\n",
    "cum_var_exp = np.cumsum(var_exp)"
   ]
  },
  {
   "cell_type": "code",
   "execution_count": 363,
   "metadata": {},
   "outputs": [
    {
     "data": {
      "image/png": "[encoded data removed]",
      "text/plain": [
       "<Figure size 1080x504 with 1 Axes>"
      ]
     },
     "metadata": {},
     "output_type": "display_data"
    }
   ],
   "source": [
    "import seaborn as sns\n",
    "import matplotlib.pyplot as plt\n",
    "sns.set(style=\"whitegrid\")\n",
    "\n",
    "PC_indexes = ['PC %s' %(i+1) for i in range(p)]\n",
    "f, ax = plt.subplots(figsize=(15, 7))\n",
    "sns.set_color_codes(\"pastel\")\n",
    "sns.barplot(y=PC_indexes, x=cum_var_exp,color=\"b\")\n",
    "sns.set_color_codes(\"muted\")\n",
    "sns.barplot(y=PC_indexes, x=var_exp,color=\"b\")\n",
    "sns.despine(left=True, bottom=True)\n",
    "plt.show()"
   ]
  },
  {
   "cell_type": "markdown",
   "metadata": {},
   "source": [
    "- 从图中可看出，使用前3～4个主成分，就可以描述接近80%的方差"
   ]
  },
  {
   "cell_type": "code",
   "execution_count": 364,
   "metadata": {},
   "outputs": [],
   "source": [
    "# 手动操作时，可以构造出三个主成分进行回归\n",
    "PCA_X_scaled_manual = np.array([X_scaled.dot(eig_pairs[i][1]) for i in range(3)]).T\n",
    "\n",
    "# 也可以保留所有主成分，然后用全子集回归来寻找最合适的主成分组合\n",
    "PCA_X_scaled = np.array([X_scaled.dot(eig_pairs[i][1]) for i in range(p)]).T"
   ]
  },
  {
   "cell_type": "markdown",
   "metadata": {},
   "source": [
    "#### 第五步、使用主成分进行全子集回归"
   ]
  },
  {
   "cell_type": "code",
   "execution_count": 365,
   "metadata": {},
   "outputs": [
    {
     "name": "stdout",
     "output_type": "stream",
     "text": [
      "—————Based on Cp ———————\n",
      "             β\n",
      "PC 1  0.182352\n",
      "PC 2 -0.176886\n",
      "PC 3 -0.567179\n",
      "PC 7 -0.140569\n",
      "PC 8  0.303308\n",
      "—————————————————————————\n",
      "Cp  = 0.38716596894837435\n",
      "—————————————————————————\n",
      "\n",
      "—————Based on AIC ———————\n",
      "             β\n",
      "PC 1  0.182352\n",
      "PC 2 -0.176886\n",
      "PC 3 -0.567179\n",
      "PC 7 -0.140569\n",
      "PC 8  0.303308\n",
      "—————————————————————————\n",
      "AIC  = 351.7324012963414\n",
      "—————————————————————————\n",
      "\n"
     ]
    }
   ],
   "source": [
    "os.chdir('/Users/chichu/学习资料/数据挖掘/PCAR')\n",
    "import source.BestSubsetR as BSR\n",
    "reg1 = BSR.BestSubsetReg(PCA_X_scaled, Y_scaled,names = PC_indexes,inter=False,isCV=False)\n",
    "reg1.results()"
   ]
  },
  {
   "cell_type": "markdown",
   "metadata": {},
   "source": [
    "#### 第六步、与使用截距项的进行对比"
   ]
  },
  {
   "cell_type": "code",
   "execution_count": 366,
   "metadata": {},
   "outputs": [
    {
     "name": "stdout",
     "output_type": "stream",
     "text": [
      "—————Based on Cp ———————\n",
      "                  β\n",
      "intercept  0.494729\n",
      "lcavol     0.543998\n",
      "lweight    0.588213\n",
      "age       -0.016445\n",
      "lbph       0.101223\n",
      "svi        0.714904\n",
      "—————————————————————————\n",
      "Cp  = 0.5186421068394103\n",
      "—————————————————————————\n",
      "\n",
      "—————Based on AIC ———————\n",
      "                  β\n",
      "intercept  0.494729\n",
      "lcavol     0.543998\n",
      "lweight    0.588213\n",
      "age       -0.016445\n",
      "lbph       0.101223\n",
      "svi        0.714904\n",
      "—————————————————————————\n",
      "AIC  = 380.0243336247493\n",
      "—————————————————————————\n",
      "\n"
     ]
    }
   ],
   "source": [
    "reg2 = BestSubsetReg(X,Y,names,isCV = False)\n",
    "reg2.results()"
   ]
  },
  {
   "cell_type": "markdown",
   "metadata": {},
   "source": [
    "- 结果对比中可以看出，利用主成分进行全子集回归，降低了Cp和AIC"
   ]
  },
  {
   "cell_type": "markdown",
   "metadata": {},
   "source": [
    "## 使用模拟数据"
   ]
  },
  {
   "cell_type": "markdown",
   "metadata": {},
   "source": [
    "生成所需函数"
   ]
  },
  {
   "cell_type": "code",
   "execution_count": 367,
   "metadata": {},
   "outputs": [],
   "source": [
    "def sigma_ma(p, rho):\n",
    "    if p == 1:\n",
    "        return np.array([[1.0]])\n",
    "    else:\n",
    "        mat_left = np.power(rho, np.arange(p - 1, 0, -1)).reshape(p - 1, 1)\n",
    "        mat_below = np.power(rho, np.arange(p - 1, -1, -1)).reshape(1, p)\n",
    "        mat_above = np.c_[sigma_ma(p - 1, rho), mat_left]\n",
    "        return np.r_[mat_above, mat_below]\n",
    "\n",
    "def sim(n, p, rho, mu):\n",
    "    var = sigma_ma(p, rho)\n",
    "    uper_mat = np.linalg.cholesky(var)\n",
    "    x = norm.rvs(size=(n,p))\n",
    "    x = np.dot(x, uper_mat)\n",
    "    x = x + mu\n",
    "    return x"
   ]
  },
  {
   "cell_type": "markdown",
   "metadata": {},
   "source": [
    "模拟数据"
   ]
  },
  {
   "cell_type": "code",
   "execution_count": 368,
   "metadata": {},
   "outputs": [],
   "source": [
    "n = 1000\n",
    "p = 10\n",
    "rho = 0.75\n",
    "mu = norm.rvs(size=p, scale=1)\n",
    "X = sim(n, p, rho, mu) \n",
    "X_names = [\"X\"+str(i+1) for i in range(p)]\n",
    "\n",
    "beta = np.ones(p) * 1\n",
    "Y = np.dot(X, beta) + norm.rvs(size=n, scale=5)"
   ]
  },
  {
   "cell_type": "markdown",
   "metadata": {},
   "source": [
    "主成分回归"
   ]
  },
  {
   "cell_type": "code",
   "execution_count": 372,
   "metadata": {},
   "outputs": [
    {
     "name": "stdout",
     "output_type": "stream",
     "text": [
      "——————使用PCA的全子集回归——————\n",
      "—————Based on Cp ———————\n",
      "             β\n",
      "PC 1  0.163422\n",
      "PC 2 -0.205681\n",
      "PC 5 -0.209044\n",
      "PC 7 -0.220634\n",
      "PC 8  0.154645\n",
      "PC 9  0.097689\n",
      "—————————————————————————\n",
      "Cp  = 0.35869620070767183\n",
      "—————————————————————————\n",
      "\n",
      "—————Based on AIC ———————\n",
      "             β\n",
      "PC 1  0.163422\n",
      "PC 2 -0.205681\n",
      "PC 5 -0.209044\n",
      "PC 7 -0.220634\n",
      "PC 8  0.154645\n",
      "PC 9  0.097689\n",
      "—————————————————————————\n",
      "AIC  = 5882.498258563512\n",
      "—————————————————————————\n",
      "\n",
      "——————使用原始数据的全子集回归——————\n",
      "—————Based on Cp ———————\n",
      "                  β\n",
      "intercept  1.003175\n",
      "X1         1.241188\n",
      "X2         0.691222\n",
      "X3         1.318097\n",
      "X4         0.672945\n",
      "X5         1.497965\n",
      "X6         1.079031\n",
      "X8         1.654407\n",
      "X9         1.162248\n",
      "X10        1.150331\n",
      "—————————————————————————\n",
      "Cp  = 25.353489763385834\n",
      "—————————————————————————\n",
      "\n",
      "—————Based on AIC ———————\n",
      "                  β\n",
      "intercept  1.003175\n",
      "X1         1.241188\n",
      "X2         0.691222\n",
      "X3         1.318097\n",
      "X4         0.672945\n",
      "X5         1.497965\n",
      "X6         1.079031\n",
      "X8         1.654407\n",
      "X9         1.162248\n",
      "X10        1.150331\n",
      "—————————————————————————\n",
      "AIC  = 10140.664306924305\n",
      "—————————————————————————\n",
      "\n"
     ]
    }
   ],
   "source": [
    "import numpy as np\n",
    "import os\n",
    "from scipy.stats import norm\n",
    "from sklearn.preprocessing import StandardScaler\n",
    "\n",
    "\n",
    "X_scaled = StandardScaler().fit_transform(X)\n",
    "Y_scaled = StandardScaler().fit_transform(Y.reshape(-1, 1))\n",
    "n,p = X.shape\n",
    "X_cor = np.corrcoef(X_scaled.T)\n",
    "eig_vals, eig_vecs = np.linalg.eigh(X_cor)\n",
    "\n",
    "def schmidt_orthogonality(matrix_org, debug=False):\n",
    "    \"\"\"\n",
    "    b1 = a1, b2 = a2 - kb1, b3 = a3 - k1b1 - k2b2\n",
    "    :param matrix_org: m x n matrix, m >= n 且满秩\n",
    "    :return:\n",
    "    \"\"\"\n",
    "    m, n = matrix_org.shape\n",
    "    matrix_ortho = matrix_org.copy()\n",
    "    matrix_ortho = np.asarray(matrix_ortho, dtype=np.float)\n",
    "    coefficient = np.zeros(shape=(m, n)) # 系数矩阵k、k1、k2\n",
    "    coefficient[0, 0] = 1 # b1 = a1\n",
    "\n",
    "    for i in range(1, n):  # 开始处理下一列\n",
    "        coefficient[i, i] = 1\n",
    "        for j in range(i):\n",
    "            b_j = matrix_ortho[:, j]\n",
    "            k_j = np.dot(b_j, matrix_org[:, i]) / np.dot(b_j, b_j)\n",
    "            coefficient[j, i] = k_j\n",
    "            matrix_ortho[:, i] -= k_j * b_j\n",
    "\t# 正交向量b1,b2...做正交化处理，系数也做相应的改变\n",
    "    for i in range(n):\n",
    "        devider = np.dot(matrix_ortho[:, i], matrix_ortho[:, i])\n",
    "        if abs(devider) < 1e-16:  # 避免除以0\n",
    "            matrix_ortho[:, i] *= 0\n",
    "        else:\n",
    "            devider = np.sqrt(devider)\n",
    "            matrix_ortho[:, i] /= devider\n",
    "            coefficient[i, :] *= devider\n",
    "\n",
    "    return matrix_ortho\n",
    "\n",
    "# 计算特征向量矩阵经过施密特正交化后的矩阵Q\n",
    "Q = schmidt_orthogonality(eig_vecs)\n",
    "# 通过QT.X.Q将矩阵进行对角化\n",
    "X_cor_diag = Q.T.dot(X_cor).dot(Q)\n",
    "\n",
    "X_pca = np.dot(X_scaled, eig_vecs)\n",
    "eig_pairs = list(zip(eig_vals,eig_vecs))\n",
    "eig_pairs.sort()\n",
    "eig_pairs.reverse()\n",
    "\n",
    "PCA_X_scaled = np.array([X_scaled.dot(eig_pairs[i][1]) for i in range(p)]).T\n",
    "PC_indexes = ['PC %s' %(i+1) for i in range(p)]\n",
    "\n",
    "os.chdir('/Users/chichu/学习资料/数据挖掘/PCAR')\n",
    "from source.BestSubsetR import BestSubsetReg\n",
    "\n",
    "print(\"——————1、使用PCA的全子集回归——————\")\n",
    "reg1 = BestSubsetReg(PCA_X_scaled, Y_scaled,inter = False, isCV = False, names = PC_indexes)\n",
    "reg1.results() \n",
    "\n",
    "print(\"——————2、使用原始数据的全子集回归——————\")\n",
    "reg2 = BestSubsetReg(X, Y, X_names, isCV = False)\n",
    "reg2.results()\n"
   ]
  },
  {
   "cell_type": "markdown",
   "metadata": {},
   "source": [
    "- 结果对比结论与真实数据一致，利用主成分进行全子集回归，降低了Cp和AIC"
   ]
  }
 ],
 "metadata": {
  "kernelspec": {
   "display_name": "Python 3",
   "language": "python",
   "name": "python3"
  },
  "language_info": {
   "codemirror_mode": {
    "name": "ipython",
    "version": 3
   },
   "file_extension": ".py",
   "mimetype": "text/x-python",
   "name": "python",
   "nbconvert_exporter": "python",
   "pygments_lexer": "ipython3",
   "version": "3.7.4"
  },
  "toc-autonumbering": true,
  "toc-showtags": false,
  "widgets": {
   "application/vnd.jupyter.widget-state+json": {
    "state": {},
    "version_major": 2,
    "version_minor": 0
   }
  }
 },
 "nbformat": 4,
 "nbformat_minor": 4
}
